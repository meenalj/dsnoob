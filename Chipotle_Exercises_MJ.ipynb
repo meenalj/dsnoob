{
  "nbformat": 4,
  "nbformat_minor": 0,
  "metadata": {
    "anaconda-cloud": {},
    "kernelspec": {
      "display_name": "Python [default]",
      "language": "python",
      "name": "python2"
    },
    "language_info": {
      "codemirror_mode": {
        "name": "ipython",
        "version": 2
      },
      "file_extension": ".py",
      "mimetype": "text/x-python",
      "name": "python",
      "nbconvert_exporter": "python",
      "pygments_lexer": "ipython2",
      "version": "2.7.12"
    },
    "colab": {
      "name": "Chipotle Exercises MJ.ipynb",
      "provenance": [],
      "include_colab_link": true
    }
  },
  "cells": [
    {
      "cell_type": "markdown",
      "metadata": {
        "id": "view-in-github",
        "colab_type": "text"
      },
      "source": [
        "<a href=\"https://colab.research.google.com/github/meenalj/dsnoob/blob/master/Chipotle_Exercises_MJ.ipynb\" target=\"_parent\"><img src=\"https://colab.research.google.com/assets/colab-badge.svg\" alt=\"Open In Colab\"/></a>"
      ]
    },
    {
      "cell_type": "markdown",
      "metadata": {
        "id": "Yn6mSf-5QQX5",
        "colab_type": "text"
      },
      "source": [
        "# Ex2 - Getting and Knowing your Data"
      ]
    },
    {
      "cell_type": "markdown",
      "metadata": {
        "id": "eGQFj3DzQQX7",
        "colab_type": "text"
      },
      "source": [
        "This time we are going to pull data directly from the internet.\n",
        "Special thanks to: https://github.com/justmarkham for sharing the dataset and materials.\n",
        "\n",
        "### Step 1. Import the necessary libraries"
      ]
    },
    {
      "cell_type": "code",
      "metadata": {
        "id": "3fnKvVLVQQX8",
        "colab_type": "code",
        "colab": {}
      },
      "source": [
        "import pandas as pd\n",
        "import numpy as np"
      ],
      "execution_count": 0,
      "outputs": []
    },
    {
      "cell_type": "code",
      "metadata": {
        "id": "9zrMfqMbSeT1",
        "colab_type": "code",
        "colab": {}
      },
      "source": [
        "address='https://raw.githubusercontent.com/justmarkham/DAT8/master/data/chipotle.tsv'"
      ],
      "execution_count": 0,
      "outputs": []
    },
    {
      "cell_type": "code",
      "metadata": {
        "id": "SdbLVwcSSpTj",
        "colab_type": "code",
        "outputId": "f4c0e93e-a203-4ceb-e232-17fb8c80f9ac",
        "colab": {
          "base_uri": "https://localhost:8080/",
          "height": 34
        }
      },
      "source": [
        "print address"
      ],
      "execution_count": 9,
      "outputs": [
        {
          "output_type": "stream",
          "text": [
            "https://raw.githubusercontent.com/justmarkham/DAT8/master/data/chipotle.tsv\n"
          ],
          "name": "stdout"
        }
      ]
    },
    {
      "cell_type": "code",
      "metadata": {
        "id": "8PHOzRfWSryr",
        "colab_type": "code",
        "colab": {}
      },
      "source": [
        ""
      ],
      "execution_count": 0,
      "outputs": []
    },
    {
      "cell_type": "markdown",
      "metadata": {
        "id": "vH19MONUQQX_",
        "colab_type": "text"
      },
      "source": [
        "### Step 2. Import the dataset from this [address](https://raw.githubusercontent.com/justmarkham/DAT8/master/data/chipotle.tsv). "
      ]
    },
    {
      "cell_type": "markdown",
      "metadata": {
        "id": "kSRqdDMM5KqM",
        "colab_type": "text"
      },
      "source": [
        "Read_csv is the command used to read the dataset. Has to be prefixed with pd - shortcut for pandas"
      ]
    },
    {
      "cell_type": "code",
      "metadata": {
        "id": "G6Nt71s75dPe",
        "colab_type": "code",
        "colab": {}
      },
      "source": [
        ""
      ],
      "execution_count": 0,
      "outputs": []
    },
    {
      "cell_type": "code",
      "metadata": {
        "id": "qMLUFINf4_pW",
        "colab_type": "code",
        "colab": {}
      },
      "source": [
        ""
      ],
      "execution_count": 0,
      "outputs": []
    },
    {
      "cell_type": "markdown",
      "metadata": {
        "id": "hecicG8kQQYA",
        "colab_type": "text"
      },
      "source": [
        "### Step 3. Assign it to a variable called chipo."
      ]
    },
    {
      "cell_type": "code",
      "metadata": {
        "id": "JHATBJylQQYB",
        "colab_type": "code",
        "colab": {}
      },
      "source": [
        "chipo =pd.read_csv(address,sep='\\t')"
      ],
      "execution_count": 0,
      "outputs": []
    },
    {
      "cell_type": "markdown",
      "metadata": {
        "id": "MSB1JOJXQQYD",
        "colab_type": "text"
      },
      "source": [
        "### Step 4. See the first 10 entries"
      ]
    },
    {
      "cell_type": "markdown",
      "metadata": {
        "id": "09yMnmyQ7Cd5",
        "colab_type": "text"
      },
      "source": [
        "First 10 - > Similar to unix -> head"
      ]
    },
    {
      "cell_type": "code",
      "metadata": {
        "scrolled": false,
        "id": "NJa2LGVKQQYE",
        "colab_type": "code",
        "colab": {
          "base_uri": "https://localhost:8080/",
          "height": 343
        },
        "outputId": "e8d73734-3293-44b4-9386-4e8147e8a664"
      },
      "source": [
        "chipo.head(10)"
      ],
      "execution_count": 16,
      "outputs": [
        {
          "output_type": "execute_result",
          "data": {
            "text/html": [
              "<div>\n",
              "<style scoped>\n",
              "    .dataframe tbody tr th:only-of-type {\n",
              "        vertical-align: middle;\n",
              "    }\n",
              "\n",
              "    .dataframe tbody tr th {\n",
              "        vertical-align: top;\n",
              "    }\n",
              "\n",
              "    .dataframe thead th {\n",
              "        text-align: right;\n",
              "    }\n",
              "</style>\n",
              "<table border=\"1\" class=\"dataframe\">\n",
              "  <thead>\n",
              "    <tr style=\"text-align: right;\">\n",
              "      <th></th>\n",
              "      <th>order_id</th>\n",
              "      <th>quantity</th>\n",
              "      <th>item_name</th>\n",
              "      <th>choice_description</th>\n",
              "      <th>item_price</th>\n",
              "    </tr>\n",
              "  </thead>\n",
              "  <tbody>\n",
              "    <tr>\n",
              "      <th>0</th>\n",
              "      <td>1</td>\n",
              "      <td>1</td>\n",
              "      <td>Chips and Fresh Tomato Salsa</td>\n",
              "      <td>NaN</td>\n",
              "      <td>$2.39</td>\n",
              "    </tr>\n",
              "    <tr>\n",
              "      <th>1</th>\n",
              "      <td>1</td>\n",
              "      <td>1</td>\n",
              "      <td>Izze</td>\n",
              "      <td>[Clementine]</td>\n",
              "      <td>$3.39</td>\n",
              "    </tr>\n",
              "    <tr>\n",
              "      <th>2</th>\n",
              "      <td>1</td>\n",
              "      <td>1</td>\n",
              "      <td>Nantucket Nectar</td>\n",
              "      <td>[Apple]</td>\n",
              "      <td>$3.39</td>\n",
              "    </tr>\n",
              "    <tr>\n",
              "      <th>3</th>\n",
              "      <td>1</td>\n",
              "      <td>1</td>\n",
              "      <td>Chips and Tomatillo-Green Chili Salsa</td>\n",
              "      <td>NaN</td>\n",
              "      <td>$2.39</td>\n",
              "    </tr>\n",
              "    <tr>\n",
              "      <th>4</th>\n",
              "      <td>2</td>\n",
              "      <td>2</td>\n",
              "      <td>Chicken Bowl</td>\n",
              "      <td>[Tomatillo-Red Chili Salsa (Hot), [Black Beans...</td>\n",
              "      <td>$16.98</td>\n",
              "    </tr>\n",
              "    <tr>\n",
              "      <th>5</th>\n",
              "      <td>3</td>\n",
              "      <td>1</td>\n",
              "      <td>Chicken Bowl</td>\n",
              "      <td>[Fresh Tomato Salsa (Mild), [Rice, Cheese, Sou...</td>\n",
              "      <td>$10.98</td>\n",
              "    </tr>\n",
              "    <tr>\n",
              "      <th>6</th>\n",
              "      <td>3</td>\n",
              "      <td>1</td>\n",
              "      <td>Side of Chips</td>\n",
              "      <td>NaN</td>\n",
              "      <td>$1.69</td>\n",
              "    </tr>\n",
              "    <tr>\n",
              "      <th>7</th>\n",
              "      <td>4</td>\n",
              "      <td>1</td>\n",
              "      <td>Steak Burrito</td>\n",
              "      <td>[Tomatillo Red Chili Salsa, [Fajita Vegetables...</td>\n",
              "      <td>$11.75</td>\n",
              "    </tr>\n",
              "    <tr>\n",
              "      <th>8</th>\n",
              "      <td>4</td>\n",
              "      <td>1</td>\n",
              "      <td>Steak Soft Tacos</td>\n",
              "      <td>[Tomatillo Green Chili Salsa, [Pinto Beans, Ch...</td>\n",
              "      <td>$9.25</td>\n",
              "    </tr>\n",
              "    <tr>\n",
              "      <th>9</th>\n",
              "      <td>5</td>\n",
              "      <td>1</td>\n",
              "      <td>Steak Burrito</td>\n",
              "      <td>[Fresh Tomato Salsa, [Rice, Black Beans, Pinto...</td>\n",
              "      <td>$9.25</td>\n",
              "    </tr>\n",
              "  </tbody>\n",
              "</table>\n",
              "</div>"
            ],
            "text/plain": [
              "   order_id  ...  item_price\n",
              "0         1  ...      $2.39 \n",
              "1         1  ...      $3.39 \n",
              "2         1  ...      $3.39 \n",
              "3         1  ...      $2.39 \n",
              "4         2  ...     $16.98 \n",
              "5         3  ...     $10.98 \n",
              "6         3  ...      $1.69 \n",
              "7         4  ...     $11.75 \n",
              "8         4  ...      $9.25 \n",
              "9         5  ...      $9.25 \n",
              "\n",
              "[10 rows x 5 columns]"
            ]
          },
          "metadata": {
            "tags": []
          },
          "execution_count": 16
        }
      ]
    },
    {
      "cell_type": "markdown",
      "metadata": {
        "id": "H5lDwRAfQQYG",
        "colab_type": "text"
      },
      "source": [
        "### Step 5. What is the number of observations in the dataset?"
      ]
    },
    {
      "cell_type": "markdown",
      "metadata": {
        "id": "1W5MgyHw7jd2",
        "colab_type": "text"
      },
      "source": [
        "Use shape - shape is a tuple that gives dimensions of the array.. shape is a tuple that gives you an indication of the number of dimensions in the array. "
      ]
    },
    {
      "cell_type": "code",
      "metadata": {
        "id": "ICFYHibtQQYH",
        "colab_type": "code",
        "colab": {
          "base_uri": "https://localhost:8080/",
          "height": 34
        },
        "outputId": "ff22a02d-f669-43a6-eef3-973f957d44a2"
      },
      "source": [
        "# Solution 1\n",
        "chipo.shape[0]\n",
        "\n"
      ],
      "execution_count": 18,
      "outputs": [
        {
          "output_type": "execute_result",
          "data": {
            "text/plain": [
              "4622"
            ]
          },
          "metadata": {
            "tags": []
          },
          "execution_count": 18
        }
      ]
    },
    {
      "cell_type": "markdown",
      "metadata": {
        "id": "-UbHDjR071EB",
        "colab_type": "text"
      },
      "source": [
        "Pandas DataFrame is two-dimensional size-mutable, potentially heterogeneous tabular data structure with labeled axes (rows and columns). A Data frame is a two-dimensional data structure, i.e., data is aligned in a tabular fashion in rows and columns. Pandas DataFrame consists of three principal components, the data, rows, and columns.\n",
        "Use Info to get details around this"
      ]
    },
    {
      "cell_type": "code",
      "metadata": {
        "id": "bmPrErc9QQYJ",
        "colab_type": "code",
        "colab": {
          "base_uri": "https://localhost:8080/",
          "height": 185
        },
        "outputId": "5a53080c-07c8-421e-d45f-e4c652eee2a4"
      },
      "source": [
        "# Solution 2\n",
        "\n",
        "chipo.info()"
      ],
      "execution_count": 20,
      "outputs": [
        {
          "output_type": "stream",
          "text": [
            "<class 'pandas.core.frame.DataFrame'>\n",
            "RangeIndex: 4622 entries, 0 to 4621\n",
            "Data columns (total 5 columns):\n",
            "order_id              4622 non-null int64\n",
            "quantity              4622 non-null int64\n",
            "item_name             4622 non-null object\n",
            "choice_description    3376 non-null object\n",
            "item_price            4622 non-null object\n",
            "dtypes: int64(2), object(3)\n",
            "memory usage: 180.6+ KB\n"
          ],
          "name": "stdout"
        }
      ]
    },
    {
      "cell_type": "code",
      "metadata": {
        "id": "5wU9SCmM8mIo",
        "colab_type": "code",
        "colab": {}
      },
      "source": [
        ""
      ],
      "execution_count": 0,
      "outputs": []
    },
    {
      "cell_type": "markdown",
      "metadata": {
        "id": "xqQI9VqZQQYL",
        "colab_type": "text"
      },
      "source": [
        "### Step 6. What is the number of columns in the dataset?"
      ]
    },
    {
      "cell_type": "code",
      "metadata": {
        "id": "Yql_2lC8QQYM",
        "colab_type": "code",
        "colab": {
          "base_uri": "https://localhost:8080/",
          "height": 34
        },
        "outputId": "1c1b2eaf-811d-4abc-e01c-490fe836fbbc"
      },
      "source": [
        "chipo.shape[1]"
      ],
      "execution_count": 22,
      "outputs": [
        {
          "output_type": "execute_result",
          "data": {
            "text/plain": [
              "5"
            ]
          },
          "metadata": {
            "tags": []
          },
          "execution_count": 22
        }
      ]
    },
    {
      "cell_type": "markdown",
      "metadata": {
        "id": "8wz1jUInQQYO",
        "colab_type": "text"
      },
      "source": [
        "### Step 7. Print the name of all the columns."
      ]
    },
    {
      "cell_type": "code",
      "metadata": {
        "id": "QPHGEtSRQQYP",
        "colab_type": "code",
        "colab": {
          "base_uri": "https://localhost:8080/",
          "height": 67
        },
        "outputId": "0691fada-5351-4fee-a3e6-776bc55efe20"
      },
      "source": [
        "chipo.columns"
      ],
      "execution_count": 23,
      "outputs": [
        {
          "output_type": "execute_result",
          "data": {
            "text/plain": [
              "Index([u'order_id', u'quantity', u'item_name', u'choice_description',\n",
              "       u'item_price'],\n",
              "      dtype='object')"
            ]
          },
          "metadata": {
            "tags": []
          },
          "execution_count": 23
        }
      ]
    },
    {
      "cell_type": "code",
      "metadata": {
        "id": "9f7F389q89Eh",
        "colab_type": "code",
        "colab": {}
      },
      "source": [
        ""
      ],
      "execution_count": 0,
      "outputs": []
    },
    {
      "cell_type": "markdown",
      "metadata": {
        "id": "5cVYQkpFQQYR",
        "colab_type": "text"
      },
      "source": [
        "### Step 8. How is the dataset indexed?"
      ]
    },
    {
      "cell_type": "code",
      "metadata": {
        "id": "Tj5ZqEURQQYS",
        "colab_type": "code",
        "colab": {
          "base_uri": "https://localhost:8080/",
          "height": 34
        },
        "outputId": "0d1493f2-9ac5-4646-e70d-546b5bf084a8"
      },
      "source": [
        "chipo.index"
      ],
      "execution_count": 24,
      "outputs": [
        {
          "output_type": "execute_result",
          "data": {
            "text/plain": [
              "RangeIndex(start=0, stop=4622, step=1)"
            ]
          },
          "metadata": {
            "tags": []
          },
          "execution_count": 24
        }
      ]
    },
    {
      "cell_type": "markdown",
      "metadata": {
        "id": "zKwIdVThQQYU",
        "colab_type": "text"
      },
      "source": [
        "### Step 9. Which was the most-ordered item? "
      ]
    },
    {
      "cell_type": "markdown",
      "metadata": {
        "id": "YdiC2aqq-xcA",
        "colab_type": "text"
      },
      "source": [
        "The logic here is, pick item, figure out total quantity using group by, sort by quantity descending which gives maximum quantity of an item ordered, pick top record"
      ]
    },
    {
      "cell_type": "code",
      "metadata": {
        "id": "9qizRwECQQYV",
        "colab_type": "code",
        "colab": {
          "base_uri": "https://localhost:8080/",
          "height": 1000
        },
        "outputId": "2db91fe0-64b9-441d-b174-f9396c836e84"
      },
      "source": [
        "c=chipo.groupby('item_name')\n",
        "print c\n",
        "c=c.sum()\n",
        "print c\n",
        "print('Lets try sorting this')\n",
        "c = c.sort_values(['quantity'], ascending=False)\n",
        "print c\n",
        "print(\"The most ordered item is\",c.head(1))"
      ],
      "execution_count": 34,
      "outputs": [
        {
          "output_type": "stream",
          "text": [
            "<pandas.core.groupby.generic.DataFrameGroupBy object at 0x7f45d03bf1d0>\n",
            "                                       order_id  quantity\n",
            "item_name                                                \n",
            "6 Pack Soft Drink                         52322        55\n",
            "Barbacoa Bowl                             53972        66\n",
            "Barbacoa Burrito                          74718        91\n",
            "Barbacoa Crispy Tacos                      5613        12\n",
            "Barbacoa Salad Bowl                        9708        10\n",
            "Barbacoa Soft Tacos                       18725        25\n",
            "Bottled Water                            175944       211\n",
            "Bowl                                        472         4\n",
            "Burrito                                    1550         6\n",
            "Canned Soda                               76396       126\n",
            "Canned Soft Drink                        304753       351\n",
            "Carnitas Bowl                             62742        71\n",
            "Carnitas Burrito                          51652        60\n",
            "Carnitas Crispy Tacos                      5868         8\n",
            "Carnitas Salad                             1500         1\n",
            "Carnitas Salad Bowl                        6693         6\n",
            "Carnitas Soft Tacos                       37673        40\n",
            "Chicken Bowl                             713926       761\n",
            "Chicken Burrito                          497303       591\n",
            "Chicken Crispy Tacos                      47382        50\n",
            "Chicken Salad                             10465         9\n",
            "Chicken Salad Bowl                       117104       123\n",
            "Chicken Soft Tacos                        98395       120\n",
            "Chips                                    208004       230\n",
            "Chips and Fresh Tomato Salsa             100419       130\n",
            "Chips and Guacamole                      449959       506\n",
            "Chips and Mild Fresh Tomato Salsa           279         1\n",
            "Chips and Roasted Chili Corn Salsa        14999        23\n",
            "Chips and Roasted Chili-Corn Salsa        17462        18\n",
            "Chips and Tomatillo Green Chili Salsa     41170        45\n",
            "Chips and Tomatillo Red Chili Salsa       45556        50\n",
            "Chips and Tomatillo-Green Chili Salsa     21826        33\n",
            "Chips and Tomatillo-Red Chili Salsa       18344        25\n",
            "Crispy Tacos                                434         2\n",
            "Izze                                      10587        20\n",
            "Nantucket Nectar                          21814        29\n",
            "Salad                                      1150         2\n",
            "Side of Chips                             84769       110\n",
            "Steak Bowl                               193752       221\n",
            "Steak Burrito                            328437       386\n",
            "Steak Crispy Tacos                        35818        36\n",
            "Steak Salad                                2362         4\n",
            "Steak Salad Bowl                          29590        31\n",
            "Steak Soft Tacos                          50177        56\n",
            "Veggie Bowl                               72270        87\n",
            "Veggie Burrito                            80962        97\n",
            "Veggie Crispy Tacos                         668         1\n",
            "Veggie Salad                               7265         6\n",
            "Veggie Salad Bowl                         17303        18\n",
            "Veggie Soft Tacos                          5520         8\n",
            "Lets try sorting this\n",
            "                                       order_id  quantity\n",
            "item_name                                                \n",
            "Chicken Bowl                             713926       761\n",
            "Chicken Burrito                          497303       591\n",
            "Chips and Guacamole                      449959       506\n",
            "Steak Burrito                            328437       386\n",
            "Canned Soft Drink                        304753       351\n",
            "Chips                                    208004       230\n",
            "Steak Bowl                               193752       221\n",
            "Bottled Water                            175944       211\n",
            "Chips and Fresh Tomato Salsa             100419       130\n",
            "Canned Soda                               76396       126\n",
            "Chicken Salad Bowl                       117104       123\n",
            "Chicken Soft Tacos                        98395       120\n",
            "Side of Chips                             84769       110\n",
            "Veggie Burrito                            80962        97\n",
            "Barbacoa Burrito                          74718        91\n",
            "Veggie Bowl                               72270        87\n",
            "Carnitas Bowl                             62742        71\n",
            "Barbacoa Bowl                             53972        66\n",
            "Carnitas Burrito                          51652        60\n",
            "Steak Soft Tacos                          50177        56\n",
            "6 Pack Soft Drink                         52322        55\n",
            "Chips and Tomatillo Red Chili Salsa       45556        50\n",
            "Chicken Crispy Tacos                      47382        50\n",
            "Chips and Tomatillo Green Chili Salsa     41170        45\n",
            "Carnitas Soft Tacos                       37673        40\n",
            "Steak Crispy Tacos                        35818        36\n",
            "Chips and Tomatillo-Green Chili Salsa     21826        33\n",
            "Steak Salad Bowl                          29590        31\n",
            "Nantucket Nectar                          21814        29\n",
            "Chips and Tomatillo-Red Chili Salsa       18344        25\n",
            "Barbacoa Soft Tacos                       18725        25\n",
            "Chips and Roasted Chili Corn Salsa        14999        23\n",
            "Izze                                      10587        20\n",
            "Veggie Salad Bowl                         17303        18\n",
            "Chips and Roasted Chili-Corn Salsa        17462        18\n",
            "Barbacoa Crispy Tacos                      5613        12\n",
            "Barbacoa Salad Bowl                        9708        10\n",
            "Chicken Salad                             10465         9\n",
            "Carnitas Crispy Tacos                      5868         8\n",
            "Veggie Soft Tacos                          5520         8\n",
            "Burrito                                    1550         6\n",
            "Veggie Salad                               7265         6\n",
            "Carnitas Salad Bowl                        6693         6\n",
            "Bowl                                        472         4\n",
            "Steak Salad                                2362         4\n",
            "Salad                                      1150         2\n",
            "Crispy Tacos                                434         2\n",
            "Chips and Mild Fresh Tomato Salsa           279         1\n",
            "Carnitas Salad                             1500         1\n",
            "Veggie Crispy Tacos                         668         1\n",
            "('The most ordered item is',               order_id  quantity\n",
            "item_name                       \n",
            "Chicken Bowl    713926       761)\n"
          ],
          "name": "stdout"
        }
      ]
    },
    {
      "cell_type": "markdown",
      "metadata": {
        "id": "XKGeIACNQQYX",
        "colab_type": "text"
      },
      "source": [
        "### Step 10. For the most-ordered item, how many items were ordered?"
      ]
    },
    {
      "cell_type": "code",
      "metadata": {
        "id": "9kx40BI9QQYY",
        "colab_type": "code",
        "colab": {
          "base_uri": "https://localhost:8080/",
          "height": 106
        },
        "outputId": "28bf367f-edd6-421c-96f2-3b2c44d006d5"
      },
      "source": [
        "c = chipo.groupby('item_name')\n",
        "c = c.sum()\n",
        "c = c.sort_values(['quantity'], ascending=False)\n",
        "c.head(1)"
      ],
      "execution_count": 35,
      "outputs": [
        {
          "output_type": "execute_result",
          "data": {
            "text/html": [
              "<div>\n",
              "<style scoped>\n",
              "    .dataframe tbody tr th:only-of-type {\n",
              "        vertical-align: middle;\n",
              "    }\n",
              "\n",
              "    .dataframe tbody tr th {\n",
              "        vertical-align: top;\n",
              "    }\n",
              "\n",
              "    .dataframe thead th {\n",
              "        text-align: right;\n",
              "    }\n",
              "</style>\n",
              "<table border=\"1\" class=\"dataframe\">\n",
              "  <thead>\n",
              "    <tr style=\"text-align: right;\">\n",
              "      <th></th>\n",
              "      <th>order_id</th>\n",
              "      <th>quantity</th>\n",
              "    </tr>\n",
              "    <tr>\n",
              "      <th>item_name</th>\n",
              "      <th></th>\n",
              "      <th></th>\n",
              "    </tr>\n",
              "  </thead>\n",
              "  <tbody>\n",
              "    <tr>\n",
              "      <th>Chicken Bowl</th>\n",
              "      <td>713926</td>\n",
              "      <td>761</td>\n",
              "    </tr>\n",
              "  </tbody>\n",
              "</table>\n",
              "</div>"
            ],
            "text/plain": [
              "              order_id  quantity\n",
              "item_name                       \n",
              "Chicken Bowl    713926       761"
            ]
          },
          "metadata": {
            "tags": []
          },
          "execution_count": 35
        }
      ]
    },
    {
      "cell_type": "markdown",
      "metadata": {
        "id": "husZaM0XQQYa",
        "colab_type": "text"
      },
      "source": [
        "### Step 11. What was the most ordered item in the choice_description column?"
      ]
    },
    {
      "cell_type": "code",
      "metadata": {
        "id": "56nHsAKRQQYa",
        "colab_type": "code",
        "colab": {
          "base_uri": "https://localhost:8080/",
          "height": 106
        },
        "outputId": "bd446539-2e79-4a28-dff3-0b656cc839e9"
      },
      "source": [
        "c = chipo.groupby('choice_description')\n",
        "c = c.sum()\n",
        "c = c.sort_values(['quantity'], ascending=False)\n",
        "c\n",
        "c.head(1)"
      ],
      "execution_count": 43,
      "outputs": [
        {
          "output_type": "execute_result",
          "data": {
            "text/html": [
              "<div>\n",
              "<style scoped>\n",
              "    .dataframe tbody tr th:only-of-type {\n",
              "        vertical-align: middle;\n",
              "    }\n",
              "\n",
              "    .dataframe tbody tr th {\n",
              "        vertical-align: top;\n",
              "    }\n",
              "\n",
              "    .dataframe thead th {\n",
              "        text-align: right;\n",
              "    }\n",
              "</style>\n",
              "<table border=\"1\" class=\"dataframe\">\n",
              "  <thead>\n",
              "    <tr style=\"text-align: right;\">\n",
              "      <th></th>\n",
              "      <th>order_id</th>\n",
              "      <th>quantity</th>\n",
              "    </tr>\n",
              "    <tr>\n",
              "      <th>choice_description</th>\n",
              "      <th></th>\n",
              "      <th></th>\n",
              "    </tr>\n",
              "  </thead>\n",
              "  <tbody>\n",
              "    <tr>\n",
              "      <th>[Diet Coke]</th>\n",
              "      <td>123455</td>\n",
              "      <td>159</td>\n",
              "    </tr>\n",
              "  </tbody>\n",
              "</table>\n",
              "</div>"
            ],
            "text/plain": [
              "                    order_id  quantity\n",
              "choice_description                    \n",
              "[Diet Coke]           123455       159"
            ]
          },
          "metadata": {
            "tags": []
          },
          "execution_count": 43
        }
      ]
    },
    {
      "cell_type": "markdown",
      "metadata": {
        "id": "AoMblu9XQQYc",
        "colab_type": "text"
      },
      "source": [
        "### Step 12. How many items were orderd in total?"
      ]
    },
    {
      "cell_type": "markdown",
      "metadata": {
        "id": "jJfnVeDE_chZ",
        "colab_type": "text"
      },
      "source": [
        "Treat chipo as table, quantity as column, sum() - calculation"
      ]
    },
    {
      "cell_type": "code",
      "metadata": {
        "id": "ZEaFK8nWQQYd",
        "colab_type": "code",
        "colab": {
          "base_uri": "https://localhost:8080/",
          "height": 34
        },
        "outputId": "d7dfef39-bfc1-4e7f-837e-debe90e2f3f4"
      },
      "source": [
        "total_items_ordered=chipo.quantity.sum()\n",
        "print('Total items ordered overall', total_items_ordered)"
      ],
      "execution_count": 47,
      "outputs": [
        {
          "output_type": "stream",
          "text": [
            "('Total items ordered overall', 4972)\n"
          ],
          "name": "stdout"
        }
      ]
    },
    {
      "cell_type": "markdown",
      "metadata": {
        "id": "YloyaLjGQQYf",
        "colab_type": "text"
      },
      "source": [
        "### Step 13. Turn the item price into a float"
      ]
    },
    {
      "cell_type": "markdown",
      "metadata": {
        "id": "mXUHNiAUQQYg",
        "colab_type": "text"
      },
      "source": [
        "#### Step 13.a. Check the item price type"
      ]
    },
    {
      "cell_type": "code",
      "metadata": {
        "id": "FveyXDrVQQYh",
        "colab_type": "code",
        "colab": {}
      },
      "source": [
        ""
      ],
      "execution_count": 0,
      "outputs": []
    },
    {
      "cell_type": "markdown",
      "metadata": {
        "id": "Qj5G4kKuQQYj",
        "colab_type": "text"
      },
      "source": [
        "#### Step 13.b. Create a lambda function and change the type of item price"
      ]
    },
    {
      "cell_type": "code",
      "metadata": {
        "id": "3sd-bBI7QQYj",
        "colab_type": "code",
        "colab": {}
      },
      "source": [
        ""
      ],
      "execution_count": 0,
      "outputs": []
    },
    {
      "cell_type": "markdown",
      "metadata": {
        "id": "OmrA194oQQYl",
        "colab_type": "text"
      },
      "source": [
        "#### Step 13.c. Check the item price type"
      ]
    },
    {
      "cell_type": "code",
      "metadata": {
        "id": "17v9aN-NQQYm",
        "colab_type": "code",
        "colab": {}
      },
      "source": [
        ""
      ],
      "execution_count": 0,
      "outputs": []
    },
    {
      "cell_type": "markdown",
      "metadata": {
        "id": "pbEol5-YQQYp",
        "colab_type": "text"
      },
      "source": [
        "### Step 14. How much was the revenue for the period in the dataset?"
      ]
    },
    {
      "cell_type": "code",
      "metadata": {
        "id": "dQE5lDLaQQYq",
        "colab_type": "code",
        "colab": {}
      },
      "source": [
        ""
      ],
      "execution_count": 0,
      "outputs": []
    },
    {
      "cell_type": "markdown",
      "metadata": {
        "id": "pmmA5MuvQQYu",
        "colab_type": "text"
      },
      "source": [
        "### Step 15. How many orders were made in the period?"
      ]
    },
    {
      "cell_type": "code",
      "metadata": {
        "id": "Ut5-siO_QQYw",
        "colab_type": "code",
        "colab": {}
      },
      "source": [
        ""
      ],
      "execution_count": 0,
      "outputs": []
    },
    {
      "cell_type": "markdown",
      "metadata": {
        "id": "_bAuFhruQQY0",
        "colab_type": "text"
      },
      "source": [
        "### Step 16. What is the average revenue amount per order?"
      ]
    },
    {
      "cell_type": "code",
      "metadata": {
        "id": "L9mFlnnTQQY1",
        "colab_type": "code",
        "colab": {}
      },
      "source": [
        "# Solution 1\n",
        "\n"
      ],
      "execution_count": 0,
      "outputs": []
    },
    {
      "cell_type": "code",
      "metadata": {
        "id": "hX_a2mj1QQY2",
        "colab_type": "code",
        "colab": {}
      },
      "source": [
        "# Solution 2\n",
        "\n"
      ],
      "execution_count": 0,
      "outputs": []
    },
    {
      "cell_type": "markdown",
      "metadata": {
        "id": "CG0oaXTLQQY5",
        "colab_type": "text"
      },
      "source": [
        "### Step 17. How many different items are sold?"
      ]
    },
    {
      "cell_type": "code",
      "metadata": {
        "id": "Sq0j28fuQQY5",
        "colab_type": "code",
        "colab": {}
      },
      "source": [
        ""
      ],
      "execution_count": 0,
      "outputs": []
    }
  ]
}