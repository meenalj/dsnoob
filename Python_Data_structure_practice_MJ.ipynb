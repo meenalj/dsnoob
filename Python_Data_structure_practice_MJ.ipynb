{
  "nbformat": 4,
  "nbformat_minor": 0,
  "metadata": {
    "colab": {
      "name": "Python Data structure practice MJ.ipynb",
      "provenance": [],
      "include_colab_link": true
    },
    "kernelspec": {
      "name": "python3",
      "display_name": "Python 3"
    }
  },
  "cells": [
    {
      "cell_type": "markdown",
      "metadata": {
        "id": "view-in-github",
        "colab_type": "text"
      },
      "source": [
        "<a href=\"https://colab.research.google.com/github/meenalj/dsnoob/blob/master/Python_Data_structure_practice_MJ.ipynb\" target=\"_parent\"><img src=\"https://colab.research.google.com/assets/colab-badge.svg\" alt=\"Open In Colab\"/></a>"
      ]
    },
    {
      "cell_type": "markdown",
      "metadata": {
        "id": "Gr563br667lg",
        "colab_type": "text"
      },
      "source": [
        "Practice questions to understand python data structures\n",
        "https://www.w3resource.com/python-exercises/data-structures-and-algorithms/python-data-structure.php\n"
      ]
    },
    {
      "cell_type": "code",
      "metadata": {
        "id": "moFXTiqI7X9j",
        "colab_type": "code",
        "colab": {}
      },
      "source": [
        "import pandas as pd\n",
        "import numpy as np"
      ],
      "execution_count": 0,
      "outputs": []
    },
    {
      "cell_type": "markdown",
      "metadata": {
        "id": "QNL4pLXb7KMc",
        "colab_type": "text"
      },
      "source": [
        "\n",
        "\n",
        "```\n",
        "1. Write a Python program to create an Enum object and display a member name and value. Go to the editor\n",
        "Sample data :\n",
        "Afghanistan = 93\n",
        "Albania = 355\n",
        "Algeria = 213\n",
        "Andorra = 376\n",
        "Angola = 244\n",
        "Antarctica = 672\n",
        "Expected Output :\n",
        "Member name: Albania\n",
        "Member value: 355\n",
        "```\n",
        "\n"
      ]
    },
    {
      "cell_type": "markdown",
      "metadata": {
        "id": "y5urkEHeAfu3",
        "colab_type": "text"
      },
      "source": [
        "Notes: An enumeration is a set of symbolic names (members) bound to unique, constant values. Within an enumeration, the members can be compared by identity, and the enumeration itself can be iterated over.\n",
        "\n",
        "Enumerations are created using the class syntax, which makes them easy to read and write. An alternative creation method is described in Functional API. To define an enumeration, syntax is below\n",
        "\n",
        "Even though we use the class syntax to create Enums, Enums are not normal Python classes. Having two enum members with the same name is invalid, however, they can have same value\n"
      ]
    },
    {
      "cell_type": "code",
      "metadata": {
        "id": "4qXvOc7d6rH-",
        "colab_type": "code",
        "colab": {
          "base_uri": "https://localhost:8080/",
          "height": 50
        },
        "outputId": "ce46ce76-012f-4904-dec4-e77a0cad43df"
      },
      "source": [
        "\n",
        "from enum import Enum\n",
        "class Country(Enum):\n",
        "    Afghanistan = 93\n",
        "    Albania = 355\n",
        "    Algeria = 213\n",
        "    Andorra = 376\n",
        "    Angola = 244\n",
        "    Antarctica = 672\n",
        "print('Member name: {}'.format(Country.Albania.name))\n",
        "print('Member value: {}'.format(Country.Albania.value))"
      ],
      "execution_count": 3,
      "outputs": [
        {
          "output_type": "stream",
          "text": [
            "Member name: Albania\n",
            "Member value: 355\n"
          ],
          "name": "stdout"
        }
      ]
    },
    {
      "cell_type": "markdown",
      "metadata": {
        "id": "sRcotEqWBqo9",
        "colab_type": "text"
      },
      "source": [
        "2. Write a Python program to iterate over an enum class and display individual member and their value. Go to the editor\n",
        "Expected Output:\n",
        "Afghanistan = 93\n",
        "Albania = 355\n",
        "Algeria = 213\n",
        "Andorra = 376\n",
        "Angola = 244\n",
        "Antarctica = 672"
      ]
    },
    {
      "cell_type": "code",
      "metadata": {
        "id": "xJLQNZhjBsOi",
        "colab_type": "code",
        "colab": {
          "base_uri": "https://localhost:8080/",
          "height": 118
        },
        "outputId": "e4b1afb1-a551-4e58-f7eb-99a0cec7314a"
      },
      "source": [
        "for data in Country:\n",
        "  print(data.name, data.value)"
      ],
      "execution_count": 4,
      "outputs": [
        {
          "output_type": "stream",
          "text": [
            "Afghanistan 93\n",
            "Albania 355\n",
            "Algeria 213\n",
            "Andorra 376\n",
            "Angola 244\n",
            "Antarctica 672\n"
          ],
          "name": "stdout"
        }
      ]
    },
    {
      "cell_type": "markdown",
      "metadata": {
        "id": "WY8q3oCaCPXB",
        "colab_type": "text"
      },
      "source": [
        "3. Write a Python program to display all the member name of an enum class ordered by their values. Go to the editor\n",
        "Expected Output:\n",
        "Country Name ordered by Country Code:\n",
        "Afghanistan\n",
        "Algeria\n",
        "Angola\n",
        "Albania\n",
        "Andorra\n",
        "Antarctica"
      ]
    },
    {
      "cell_type": "code",
      "metadata": {
        "id": "pL1Ve22GCQoy",
        "colab_type": "code",
        "colab": {
          "base_uri": "https://localhost:8080/",
          "height": 118
        },
        "outputId": "a1e2cb32-0f40-4c58-8007-53b51090293d"
      },
      "source": [
        "import enum\n",
        "class Country(enum.IntEnum):\n",
        "    Afghanistan = 93\n",
        "    Albania = 355\n",
        "    Algeria = 213\n",
        "    Andorra = 376\n",
        "    Angola = 244\n",
        "    Antarctica = 672\n",
        "for c in sorted(Country):\n",
        "  print(c.name)\n"
      ],
      "execution_count": 13,
      "outputs": [
        {
          "output_type": "stream",
          "text": [
            "Afghanistan\n",
            "Algeria\n",
            "Angola\n",
            "Albania\n",
            "Andorra\n",
            "Antarctica\n"
          ],
          "name": "stdout"
        }
      ]
    },
    {
      "cell_type": "markdown",
      "metadata": {
        "id": "boygMg06N0Qv",
        "colab_type": "text"
      },
      "source": [
        "4. Write a Python program to get all values from an enum class. Go to the editor\n",
        "Expected output:\n",
        "[93, 355, 213, 376, 244, 672]"
      ]
    },
    {
      "cell_type": "code",
      "metadata": {
        "id": "VitT5mGFN22s",
        "colab_type": "code",
        "colab": {
          "base_uri": "https://localhost:8080/",
          "height": 118
        },
        "outputId": "048106ed-8222-4d63-fee6-510f170a0c18"
      },
      "source": [
        "for data in Country:\n",
        "  print(data.value)"
      ],
      "execution_count": 20,
      "outputs": [
        {
          "output_type": "stream",
          "text": [
            "93\n",
            "355\n",
            "213\n",
            "376\n",
            "244\n",
            "672\n"
          ],
          "name": "stdout"
        }
      ]
    },
    {
      "cell_type": "code",
      "metadata": {
        "id": "dQ7UsFr6OJs8",
        "colab_type": "code",
        "colab": {
          "base_uri": "https://localhost:8080/",
          "height": 34
        },
        "outputId": "b181506f-d08a-4782-be1c-42234d761c17"
      },
      "source": [
        "#or \n",
        "country_code_list = list(map(int, Country))\n",
        "print(country_code_list)"
      ],
      "execution_count": 21,
      "outputs": [
        {
          "output_type": "stream",
          "text": [
            "[93, 355, 213, 376, 244, 672]\n"
          ],
          "name": "stdout"
        }
      ]
    },
    {
      "cell_type": "markdown",
      "metadata": {
        "id": "GDIhj1EMOVmd",
        "colab_type": "text"
      },
      "source": [
        "5. Write a Python program to count the most common words in a dictionary. Go to the editor\n",
        "Expected Output:\n",
        "[('pink', 6), ('black', 5), ('white', 5), ('red', 4)]\n",
        "Click me to see the sample solution"
      ]
    },
    {
      "cell_type": "code",
      "metadata": {
        "id": "E6zeEi9zOW2h",
        "colab_type": "code",
        "colab": {
          "base_uri": "https://localhost:8080/",
          "height": 50
        },
        "outputId": "7af7c14f-0ff0-4757-fd21-58682074681e"
      },
      "source": [
        "words = [\n",
        "   'red', 'green', 'black', 'pink', 'black', 'white', 'black', 'eyes',\n",
        "   'white', 'black', 'orange', 'pink', 'pink', 'red', 'red', 'white', 'orange',\n",
        "   'white', \"black\", 'pink', 'green', 'green', 'pink', 'green', 'pink',\n",
        "   'white', 'orange', \"orange\", 'red'\n",
        "]\n",
        "from collections import Counter\n",
        "word_counts=Counter(words)\n",
        "print(word_counts)\n",
        "top_four=word_counts.most_common(4)\n",
        "print(top_four)"
      ],
      "execution_count": 28,
      "outputs": [
        {
          "output_type": "stream",
          "text": [
            "Counter({'pink': 6, 'black': 5, 'white': 5, 'red': 4, 'green': 4, 'orange': 4, 'eyes': 1})\n",
            "[('pink', 6), ('black', 5), ('white', 5), ('red', 4)]\n"
          ],
          "name": "stdout"
        }
      ]
    },
    {
      "cell_type": "markdown",
      "metadata": {
        "id": "xJmAxAW1PFWT",
        "colab_type": "text"
      },
      "source": [
        "6. Write a Python program to find the class wise roll number from a tuple-of-tuples. Go to the editor\n",
        "Expected Output:\n",
        "defaultdict(, {'VII': [1], 'V': [1, 2], 'VI': [1, 2, 3]})\n",
        "Click me to see the sample solution"
      ]
    },
    {
      "cell_type": "code",
      "metadata": {
        "id": "cELUanFzPOZQ",
        "colab_type": "code",
        "colab": {
          "base_uri": "https://localhost:8080/",
          "height": 34
        },
        "outputId": "aa5d3186-ff40-4b85-9bb4-7de044bffc2c"
      },
      "source": [
        "from collections import defaultdict\n",
        "classes = (\n",
        "    ('V', 1),\n",
        "    ('VI', 1),\n",
        "    ('V', 2),\n",
        "    ('VI', 2),\n",
        "    ('VI', 3),\n",
        "    ('VII', 1),\n",
        ")\n",
        "\n",
        "roll_no=defaultdict(list)\n",
        "\n",
        "for class_name, roll_id in classes:\n",
        "  roll_no[class_name].append(roll_id)\n",
        "print(roll_no)\n",
        "\n"
      ],
      "execution_count": 44,
      "outputs": [
        {
          "output_type": "stream",
          "text": [
            "defaultdict(<class 'list'>, {'V': [1, 2], 'VI': [1, 2, 3], 'VII': [1]})\n"
          ],
          "name": "stdout"
        }
      ]
    },
    {
      "cell_type": "markdown",
      "metadata": {
        "id": "iqwsbaPoPGyM",
        "colab_type": "text"
      },
      "source": [
        "7. Write a Python program to count the number of students of individual class. Go to the editor\n",
        "Sample data:\n",
        "classes = (\n",
        "('V', 1),\n",
        "('VI', 1),\n",
        "('V', 2),\n",
        "('VI', 2),\n",
        "('VI', 3),\n",
        "('VII', 1),\n",
        ")\n",
        "Expected Output:\n",
        "Counter({'VI': 3, 'V': 2, 'VII': 1})"
      ]
    },
    {
      "cell_type": "code",
      "metadata": {
        "id": "UW9cPZnxb4Qq",
        "colab_type": "code",
        "colab": {
          "base_uri": "https://localhost:8080/",
          "height": 34
        },
        "outputId": "207599fa-b61e-40d6-f41b-83d84896cfaa"
      },
      "source": [
        "from collections import Counter\n",
        "students=Counter(class_name for class_name,student_no in classes)\n",
        "print(students)"
      ],
      "execution_count": 48,
      "outputs": [
        {
          "output_type": "stream",
          "text": [
            "Counter({'VI': 3, 'V': 2, 'VII': 1})\n"
          ],
          "name": "stdout"
        }
      ]
    },
    {
      "cell_type": "markdown",
      "metadata": {
        "id": "WitrtDKxPMY0",
        "colab_type": "text"
      },
      "source": [
        "8.Write a Python program to get the unique enumeration values. Go to the editor\n",
        "Expected Output:\n",
        "Afghanistan = 93\n",
        "Albania = 355\n",
        "Algeria = 213\n",
        "Andorra = 376\n",
        "Angola = 244"
      ]
    },
    {
      "cell_type": "code",
      "metadata": {
        "id": "rn0DVIi_edKd",
        "colab_type": "code",
        "colab": {
          "base_uri": "https://localhost:8080/",
          "height": 101
        },
        "outputId": "171adfb0-bd10-47bd-f294-2dff402cfc4b"
      },
      "source": [
        "import enum\n",
        "class Countries(enum.Enum):\n",
        "    Afghanistan = 93\n",
        "    Albania = 355\n",
        "    Algeria = 213\n",
        "    Andorra = 376\n",
        "    Angola = 244\n",
        "    India = 355\n",
        "    USA = 213\n",
        "for result in Countries:\n",
        "    print('{:15} = {}'.format(result.name, result.value))\n",
        "    "
      ],
      "execution_count": 52,
      "outputs": [
        {
          "output_type": "stream",
          "text": [
            "Afghanistan     = 93\n",
            "Albania         = 355\n",
            "Algeria         = 213\n",
            "Andorra         = 376\n",
            "Angola          = 244\n"
          ],
          "name": "stdout"
        }
      ]
    },
    {
      "cell_type": "markdown",
      "metadata": {
        "id": "lNn_Jqfofewg",
        "colab_type": "text"
      },
      "source": [
        "9. Write a Python program to create an instance of an OrderedDict using a given dictionary. Sort the dictionary during the creation and print the members of the dictionary in reverse order. Go to the editor\n",
        "Expected Output:\n",
        "Angola 244\n",
        "Andorra 376\n",
        "Algeria 213\n",
        "Afghanistan 93\n",
        "Albania 355\n",
        "In reverse order:\n",
        "Albania 355\n",
        "Afghanistan 93\n",
        "Algeria 213\n",
        "Andorra 376\n",
        "Angola 244"
      ]
    },
    {
      "cell_type": "code",
      "metadata": {
        "id": "4D-Nxo6Nfi1m",
        "colab_type": "code",
        "colab": {
          "base_uri": "https://localhost:8080/",
          "height": 235
        },
        "outputId": "851c7e94-138c-445e-ee19-a81d8763c608"
      },
      "source": [
        "from collections import OrderedDict\n",
        "dict= {'Afghanistan': 93, 'Albania': 355, 'Algeria': 213, 'Andorra': 376, 'Angola': 244}\n",
        "print(dict)\n",
        "new_dict=OrderedDict(dict.items())\n",
        "print('new_dict is',new_dict)\n",
        "\n",
        "for key in new_dict:\n",
        "  print(key,new_dict[key])\n",
        "print('Reversed order Dict is ')\n",
        "for key in reversed(new_dict):\n",
        "    print(key,new_dict[key])"
      ],
      "execution_count": 63,
      "outputs": [
        {
          "output_type": "stream",
          "text": [
            "{'Afghanistan': 93, 'Albania': 355, 'Algeria': 213, 'Andorra': 376, 'Angola': 244}\n",
            "new_dict is OrderedDict([('Afghanistan', 93), ('Albania', 355), ('Algeria', 213), ('Andorra', 376), ('Angola', 244)])\n",
            "Afghanistan 93\n",
            "Albania 355\n",
            "Algeria 213\n",
            "Andorra 376\n",
            "Angola 244\n",
            "Reversed order Dict is \n",
            "Angola 244\n",
            "Andorra 376\n",
            "Algeria 213\n",
            "Albania 355\n",
            "Afghanistan 93\n"
          ],
          "name": "stdout"
        }
      ]
    },
    {
      "cell_type": "markdown",
      "metadata": {
        "id": "iKpPm_roh_9O",
        "colab_type": "text"
      },
      "source": [
        "10. Write a Python program to group a sequence of key-value pairs into a dictionary of lists. Go to the editor\n",
        "Expected output:\n",
        "[('v', [1, 3]), ('vi', [2, 4]), ('vii', [1])]"
      ]
    },
    {
      "cell_type": "code",
      "metadata": {
        "id": "VMpj-YzuiA4f",
        "colab_type": "code",
        "colab": {
          "base_uri": "https://localhost:8080/",
          "height": 67
        },
        "outputId": "655bd8c1-175e-4882-9f69-499e3113b291"
      },
      "source": [
        "from collections import defaultdict\n",
        "class_1 = [('v', 1), ('vi', 2), ('v', 3), ('vi', 4), ('vii', 1)]\n",
        "d=defaultdict(list)\n",
        "print(d)\n",
        "for a,b in class_1:\n",
        "  d[a].append(b)\n",
        "print(d)\n",
        "\n"
      ],
      "execution_count": 71,
      "outputs": [
        {
          "output_type": "stream",
          "text": [
            "defaultdict(<class 'list'>, {})\n",
            "defaultdict(<class 'list'>, {'v': [1, 3], 'vi': [2, 4], 'vii': [1]})\n",
            "[('v', [1, 3]), ('vi', [2, 4]), ('vii', [1])]\n"
          ],
          "name": "stdout"
        }
      ]
    },
    {
      "cell_type": "markdown",
      "metadata": {
        "id": "HY6pmF4Jlxfo",
        "colab_type": "text"
      },
      "source": [
        "11. Write a Python program to compare two unordered lists (not sets). Go to the editor\n",
        "Expected Output: False"
      ]
    },
    {
      "cell_type": "code",
      "metadata": {
        "id": "BFu94qralyID",
        "colab_type": "code",
        "colab": {
          "base_uri": "https://localhost:8080/",
          "height": 34
        },
        "outputId": "b110c198-7883-40b1-cd59-681da0bb0287"
      },
      "source": [
        "from collections import Counter\n",
        "def compare_list(x,y):\n",
        "  return Counter(x)==Counter(y)\n",
        "n1 =[10,25,37,81,42,90]\n",
        "n2 =[10,25,37,81,42,90]\n",
        "#n2=[42,10,27,31,55]\n",
        "print(compare_list(n1,n2))"
      ],
      "execution_count": 74,
      "outputs": [
        {
          "output_type": "stream",
          "text": [
            "True\n"
          ],
          "name": "stdout"
        }
      ]
    },
    {
      "cell_type": "markdown",
      "metadata": {
        "id": "RqbDzA2InXTi",
        "colab_type": "text"
      },
      "source": [
        "12. Write a Python program to create an array contains six integers. Also print all the members of the array. Go to the editor\n",
        "Expected Output:\n",
        "10\n",
        "20\n",
        "30\n",
        "40\n",
        "50"
      ]
    },
    {
      "cell_type": "code",
      "metadata": {
        "id": "RB3qJNYknYYW",
        "colab_type": "code",
        "colab": {
          "base_uri": "https://localhost:8080/",
          "height": 212
        },
        "outputId": "52b74a46-b9bc-4fb4-ed19-45a8e7e4aa20"
      },
      "source": [
        "from array import array\n",
        "my_array = array['i',[10,20,30,40,50,60]]\n",
        "for i in my_array:\n",
        "  print(i)"
      ],
      "execution_count": 77,
      "outputs": [
        {
          "output_type": "error",
          "ename": "TypeError",
          "evalue": "ignored",
          "traceback": [
            "\u001b[0;31m---------------------------------------------------------------------------\u001b[0m",
            "\u001b[0;31mTypeError\u001b[0m                                 Traceback (most recent call last)",
            "\u001b[0;32m<ipython-input-77-a3ad772ed311>\u001b[0m in \u001b[0;36m<module>\u001b[0;34m()\u001b[0m\n\u001b[1;32m      1\u001b[0m \u001b[0;32mfrom\u001b[0m \u001b[0marray\u001b[0m \u001b[0;32mimport\u001b[0m \u001b[0marray\u001b[0m\u001b[0;34m\u001b[0m\u001b[0;34m\u001b[0m\u001b[0m\n\u001b[0;32m----> 2\u001b[0;31m \u001b[0mmy_array\u001b[0m \u001b[0;34m=\u001b[0m \u001b[0marray\u001b[0m\u001b[0;34m[\u001b[0m\u001b[0;34m'i'\u001b[0m\u001b[0;34m,\u001b[0m\u001b[0;34m[\u001b[0m\u001b[0;36m10\u001b[0m\u001b[0;34m,\u001b[0m\u001b[0;36m20\u001b[0m\u001b[0;34m,\u001b[0m\u001b[0;36m30\u001b[0m\u001b[0;34m,\u001b[0m\u001b[0;36m40\u001b[0m\u001b[0;34m,\u001b[0m\u001b[0;36m50\u001b[0m\u001b[0;34m,\u001b[0m\u001b[0;36m60\u001b[0m\u001b[0;34m]\u001b[0m\u001b[0;34m]\u001b[0m\u001b[0;34m\u001b[0m\u001b[0;34m\u001b[0m\u001b[0m\n\u001b[0m\u001b[1;32m      3\u001b[0m \u001b[0;32mfor\u001b[0m \u001b[0mi\u001b[0m \u001b[0;32min\u001b[0m \u001b[0mmy_array\u001b[0m\u001b[0;34m:\u001b[0m\u001b[0;34m\u001b[0m\u001b[0;34m\u001b[0m\u001b[0m\n\u001b[1;32m      4\u001b[0m   \u001b[0mprint\u001b[0m\u001b[0;34m(\u001b[0m\u001b[0mi\u001b[0m\u001b[0;34m)\u001b[0m\u001b[0;34m\u001b[0m\u001b[0;34m\u001b[0m\u001b[0m\n",
            "\u001b[0;31mTypeError\u001b[0m: 'type' object is not subscriptable"
          ]
        }
      ]
    }
  ]
}