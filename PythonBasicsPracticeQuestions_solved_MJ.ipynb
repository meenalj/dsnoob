{
  "nbformat": 4,
  "nbformat_minor": 0,
  "metadata": {
    "kernelspec": {
      "display_name": "Python 3",
      "language": "python",
      "name": "python3"
    },
    "language_info": {
      "codemirror_mode": {
        "name": "ipython",
        "version": 3
      },
      "file_extension": ".py",
      "mimetype": "text/x-python",
      "name": "python",
      "nbconvert_exporter": "python",
      "pygments_lexer": "ipython3",
      "version": "3.6.5"
    },
    "colab": {
      "name": "PythonBasicsPracticeQuestions_solved_MJ.ipynb",
      "provenance": [],
      "collapsed_sections": [
        "zofunULir4oB",
        "GRwsojiWr4oF",
        "gizgJVPjr4oJ",
        "BH6gBZWhr4oN",
        "_ZdpIOIUr4oS",
        "EszMu7KCr4oW",
        "rMeaNRdtr4oa",
        "yOLlzZeVr4oe",
        "Gx_NtC__r4oh",
        "aFzoO7Ulr4or",
        "enmmA1fUr4ov",
        "fmQF4QOJr4oy",
        "uvqxFJd2r4o6"
      ],
      "include_colab_link": true
    }
  },
  "cells": [
    {
      "cell_type": "markdown",
      "metadata": {
        "id": "view-in-github",
        "colab_type": "text"
      },
      "source": [
        "<a href=\"https://colab.research.google.com/github/meenalj/dsnoob/blob/master/PythonBasicsPracticeQuestions_solved_MJ.ipynb\" target=\"_parent\"><img src=\"https://colab.research.google.com/assets/colab-badge.svg\" alt=\"Open In Colab\"/></a>"
      ]
    },
    {
      "cell_type": "markdown",
      "metadata": {
        "id": "WyzF_U_-r4nO",
        "colab_type": "text"
      },
      "source": [
        "<img src='https://www.insaid.co/wp-content/uploads/2018/04/INSAID_Logo-1.png' height=\"240\" width=\"360\"/>\n",
        "<br/>\n",
        "# Python basics"
      ]
    },
    {
      "cell_type": "markdown",
      "metadata": {
        "collapsed": true,
        "id": "MfuzEMtHr4nT",
        "colab_type": "text"
      },
      "source": [
        "### 1.Write a Python program to print the following string\n",
        "\n",
        "Sample String: \"Welcome to INSAID- International School of AI and Data Science\"\n",
        "\n"
      ]
    },
    {
      "cell_type": "code",
      "metadata": {
        "id": "XYr9W8bSr4nW",
        "colab_type": "code",
        "outputId": "d9cefd01-93a7-4715-b2a4-9d0ad887b28b",
        "colab": {
          "base_uri": "https://localhost:8080/",
          "height": 34
        }
      },
      "source": [
        "print(\"Welcome to INSAID- International School of AI and Data Science\")"
      ],
      "execution_count": 0,
      "outputs": [
        {
          "output_type": "stream",
          "text": [
            "Welcome to INSAID- International School of AI and Data Science\n"
          ],
          "name": "stdout"
        }
      ]
    },
    {
      "cell_type": "markdown",
      "metadata": {
        "id": "1rFYcAW7r4ng",
        "colab_type": "text"
      },
      "source": [
        "### 1.1 In a “Hello, World!” program, a comment may look like this:"
      ]
    },
    {
      "cell_type": "code",
      "metadata": {
        "id": "fBJWx2Svr4nj",
        "colab_type": "code",
        "outputId": "fbe7b7c8-eb37-4a9e-b729-72b5045aef80",
        "colab": {
          "base_uri": "https://localhost:8080/",
          "height": 34
        }
      },
      "source": [
        "# Print “Hello, World!” to console\n",
        "var= 'Hello, World!'\n",
        "print(var)"
      ],
      "execution_count": 0,
      "outputs": [
        {
          "output_type": "stream",
          "text": [
            "Hello, World!\n"
          ],
          "name": "stdout"
        }
      ]
    },
    {
      "cell_type": "code",
      "metadata": {
        "id": "v-kDbB6pr4np",
        "colab_type": "code",
        "outputId": "a1f44f53-cb37-4518-91fc-bc4eef51dfea",
        "colab": {
          "base_uri": "https://localhost:8080/",
          "height": 151
        }
      },
      "source": [
        "# Define sharks variable as a list of strings ('hammer', 'white', 'fish', 'frilled', 'bullhead', 'requiem')\n",
        "sharks= ('hammer', 'white', 'fish', 'frilled', 'bullhead', 'requiem')\n",
        "print(sharks)\n",
        "print('Doing this one at a time')\n",
        "for i in sharks:\n",
        "  print(i)\n",
        "  \n",
        "\n",
        "# For loop that iterates over sharks list and prints each string item\n"
      ],
      "execution_count": 0,
      "outputs": [
        {
          "output_type": "stream",
          "text": [
            "('hammer', 'white', 'fish', 'frilled', 'bullhead', 'requiem')\n",
            "Doing this one at a time\n",
            "hammer\n",
            "white\n",
            "fish\n",
            "frilled\n",
            "bullhead\n",
            "requiem\n"
          ],
          "name": "stdout"
        }
      ]
    },
    {
      "cell_type": "markdown",
      "metadata": {
        "id": "MOjfgIdyr4nt",
        "colab_type": "text"
      },
      "source": [
        "### 2.Write a Python Program to Add Two Numbers"
      ]
    },
    {
      "cell_type": "code",
      "metadata": {
        "id": "G-UARY8jr4nu",
        "colab_type": "code",
        "outputId": "f4db188f-8665-45de-ae21-3738d734a4cb",
        "colab": {
          "base_uri": "https://localhost:8080/",
          "height": 34
        }
      },
      "source": [
        "# initialise two varaibles\n",
        "a=5\n",
        "b=10\n",
        "\n",
        "# Add two numbers\n",
        "sum=(a+b)\n",
        "\n",
        "# Display the sum\n",
        "print(sum)"
      ],
      "execution_count": 0,
      "outputs": [
        {
          "output_type": "stream",
          "text": [
            "15\n"
          ],
          "name": "stdout"
        }
      ]
    },
    {
      "cell_type": "markdown",
      "metadata": {
        "id": "XqPYl9Jxr4n0",
        "colab_type": "text"
      },
      "source": [
        "### 3.Write a Python Program to Find the product of two numbers"
      ]
    },
    {
      "cell_type": "code",
      "metadata": {
        "id": "LSxqCFbOr4n1",
        "colab_type": "code",
        "outputId": "c5497ed9-fbd3-4a77-967f-53e288706494",
        "colab": {
          "base_uri": "https://localhost:8080/",
          "height": 34
        }
      },
      "source": [
        "# initialise two varaibles\n",
        "\n",
        "a=5\n",
        "b=10\n",
        "\n",
        "# multiply two numbers\n",
        "\n",
        "product = a*b\n",
        "# Display the sum\n",
        "print(product)"
      ],
      "execution_count": 0,
      "outputs": [
        {
          "output_type": "stream",
          "text": [
            "50\n"
          ],
          "name": "stdout"
        }
      ]
    },
    {
      "cell_type": "markdown",
      "metadata": {
        "id": "XpxqH1jJr4n4",
        "colab_type": "text"
      },
      "source": [
        "### 4.Write a python program to find the area of triangle given height and base of the triangle as 3 and 10."
      ]
    },
    {
      "cell_type": "code",
      "metadata": {
        "id": "kbPmo-Pbr4n5",
        "colab_type": "code",
        "outputId": "1361d44a-74dc-4652-e820-314b8fd783d2",
        "colab": {
          "base_uri": "https://localhost:8080/",
          "height": 34
        }
      },
      "source": [
        "# Area of the triangle A= 1/2(base * height)\n",
        "base=10\n",
        "height=3\n",
        "area = 1/2*(base*height)\n",
        "#given height=3 and base =10\n",
        "print('Area of the triangle is', area)\n"
      ],
      "execution_count": 0,
      "outputs": [
        {
          "output_type": "stream",
          "text": [
            "Area of the triangle is 15.0\n"
          ],
          "name": "stdout"
        }
      ]
    },
    {
      "cell_type": "markdown",
      "metadata": {
        "id": "fp1vwobZr4n8",
        "colab_type": "text"
      },
      "source": [
        "### 5.Python Program to Swap Two Variables"
      ]
    },
    {
      "cell_type": "code",
      "metadata": {
        "id": "BKimOn4qr4n9",
        "colab_type": "code",
        "outputId": "49f9fa4b-45c7-4596-9227-55ec70d6112c",
        "colab": {
          "base_uri": "https://localhost:8080/",
          "height": 50
        }
      },
      "source": [
        "# initialise two varaibles\n",
        "a=15\n",
        "b=25\n",
        "print('value of a and b are {} and {}'.format(a,b))\n",
        "c=a\n",
        "a=b\n",
        "b=c\n",
        "print('value of a and b are {} and {}'.format(a,b))\n",
        "\n",
        "# create a temporary variable and swap the values\n",
        "\n",
        "\n"
      ],
      "execution_count": 0,
      "outputs": [
        {
          "output_type": "stream",
          "text": [
            "value of a and b are 15 and 25\n",
            "value of a and b are 25 and 15\n"
          ],
          "name": "stdout"
        }
      ]
    },
    {
      "cell_type": "markdown",
      "metadata": {
        "id": "DDHKBH03r4oA",
        "colab_type": "text"
      },
      "source": [
        "## Section"
      ]
    },
    {
      "cell_type": "markdown",
      "metadata": {
        "collapsed": true,
        "id": "zofunULir4oB",
        "colab_type": "text"
      },
      "source": [
        "### 1.Write a python program to print datatype of a varaible"
      ]
    },
    {
      "cell_type": "code",
      "metadata": {
        "id": "SG0xu3Rdr4oC",
        "colab_type": "code",
        "outputId": "9dd0b801-1adb-4ab4-c74e-646b880e2afc",
        "colab": {
          "base_uri": "https://localhost:8080/"
        }
      },
      "source": [
        "a = 1\n",
        "\n",
        "\n",
        "b = 2.0\n",
        "\n",
        "\n",
        "c = 1+2j\n",
        "\n",
        "print(type(a))\n",
        "print(type(b))\n",
        "print(type(c))"
      ],
      "execution_count": 0,
      "outputs": [
        {
          "output_type": "stream",
          "text": [
            "<class 'int'>\n",
            "<class 'float'>\n",
            "<class 'complex'>\n"
          ],
          "name": "stdout"
        }
      ]
    },
    {
      "cell_type": "markdown",
      "metadata": {
        "id": "GRwsojiWr4oF",
        "colab_type": "text"
      },
      "source": [
        "### 2.Write a python program to extract an item or a range of items from a list.\n",
        "\n"
      ]
    },
    {
      "cell_type": "code",
      "metadata": {
        "id": "hlQB6iEor4oG",
        "colab_type": "code",
        "outputId": "7441108f-59d0-46fa-b0e0-3f48f6981839",
        "colab": {
          "base_uri": "https://localhost:8080/"
        }
      },
      "source": [
        "a = [15,20,35,40,45,30,35,60]\n",
        "\n",
        "# Print the item at index 2\n",
        "print(a[2])\n",
        "# Print the first 3 items\n",
        "print(a[0:3])\n",
        "# Print the last 3 items\n",
        "print(a[5:8])\n",
        "# Start to third last item\n",
        "print(a[0:6])"
      ],
      "execution_count": 0,
      "outputs": [
        {
          "output_type": "stream",
          "text": [
            "35\n",
            "[15, 20, 35]\n",
            "[30, 35, 60]\n",
            "[15, 20, 35, 40, 45, 30]\n"
          ],
          "name": "stdout"
        }
      ]
    },
    {
      "cell_type": "markdown",
      "metadata": {
        "id": "gizgJVPjr4oJ",
        "colab_type": "text"
      },
      "source": [
        "### 3.Converting Floats to Integers\n"
      ]
    },
    {
      "cell_type": "code",
      "metadata": {
        "id": "DjUXsd8qr4oK",
        "colab_type": "code",
        "outputId": "4055c823-498a-4b30-d098-e35fa72002f0",
        "colab": {
          "base_uri": "https://localhost:8080/"
        }
      },
      "source": [
        "b = 125.0\n",
        "c = 390.8\n",
        "\n",
        "# Print the Integer values\n",
        "print(type(b))\n",
        "print(type(c))\n",
        "b=int(b)\n",
        "c=int(c)\n",
        "print(type(b))\n",
        "print(type(c))"
      ],
      "execution_count": 0,
      "outputs": [
        {
          "output_type": "stream",
          "text": [
            "<class 'float'>\n",
            "<class 'float'>\n",
            "<class 'int'>\n",
            "<class 'int'>\n"
          ],
          "name": "stdout"
        }
      ]
    },
    {
      "cell_type": "markdown",
      "metadata": {
        "id": "BH6gBZWhr4oN",
        "colab_type": "text"
      },
      "source": [
        "### 4.Converting Numbers to Strings"
      ]
    },
    {
      "cell_type": "code",
      "metadata": {
        "id": "M99R4tmVr4oO",
        "colab_type": "code",
        "outputId": "796f6cb3-0649-4c2a-a9ed-bc9e19027cea",
        "colab": {
          "base_uri": "https://localhost:8080/"
        }
      },
      "source": [
        "a = 10\n",
        "\n",
        "print(a, \"is of type\", type(a))\n",
        "\n",
        "a=str(a)\n",
        "\n",
        "print(a, \"is of type\", type(a))\n",
        "# Convert the value in a to a string and then print"
      ],
      "execution_count": 0,
      "outputs": [
        {
          "output_type": "stream",
          "text": [
            "10 is of type <class 'int'>\n",
            "10 is of type <class 'str'>\n"
          ],
          "name": "stdout"
        }
      ]
    },
    {
      "cell_type": "markdown",
      "metadata": {
        "id": "_ZdpIOIUr4oS",
        "colab_type": "text"
      },
      "source": [
        "### 5.Converting Strings to Numbers"
      ]
    },
    {
      "cell_type": "code",
      "metadata": {
        "id": "A601uutUr4oT",
        "colab_type": "code",
        "outputId": "84e3c3e0-81a9-4044-8191-0a64f7ff9aca",
        "colab": {
          "base_uri": "https://localhost:8080/"
        }
      },
      "source": [
        "a = \"50\"\n",
        "b = \"108\"\n",
        "\n",
        "a=int(a)\n",
        "b=int(b)\n",
        "diff = a-b\n",
        "print(diff)\n",
        "# Find the difference between a and b"
      ],
      "execution_count": 0,
      "outputs": [
        {
          "output_type": "stream",
          "text": [
            "-58\n"
          ],
          "name": "stdout"
        }
      ]
    },
    {
      "cell_type": "markdown",
      "metadata": {
        "id": "EszMu7KCr4oW",
        "colab_type": "text"
      },
      "source": [
        "### 6.Converting list to Tuples"
      ]
    },
    {
      "cell_type": "code",
      "metadata": {
        "id": "P0zdKLxnr4oX",
        "colab_type": "code",
        "outputId": "a71445d1-6e29-48c8-8248-5c5a9f326462",
        "colab": {
          "base_uri": "https://localhost:8080/"
        }
      },
      "source": [
        "myList = ['request', 'source', 'repository', 'branch']\n",
        "\n",
        "# Print myList to a Tuple\n",
        "myTuple=tuple(myList)\n",
        "print(myTuple)"
      ],
      "execution_count": 0,
      "outputs": [
        {
          "output_type": "stream",
          "text": [
            "('request', 'source', 'repository', 'branch')\n"
          ],
          "name": "stdout"
        }
      ]
    },
    {
      "cell_type": "markdown",
      "metadata": {
        "id": "rMeaNRdtr4oa",
        "colab_type": "text"
      },
      "source": [
        "### 7.Converting tuple to Lists"
      ]
    },
    {
      "cell_type": "code",
      "metadata": {
        "id": "hXBrFX6Tr4ob",
        "colab_type": "code",
        "outputId": "49e5ce75-3322-464c-e82a-95ad5271f259",
        "colab": {
          "base_uri": "https://localhost:8080/"
        }
      },
      "source": [
        "myTuple = ('blue', 'red', 'white')\n",
        "\n",
        "# Print myTuple to a List\n",
        "myList=list(myTuple)\n",
        "print(myList)"
      ],
      "execution_count": 0,
      "outputs": [
        {
          "output_type": "stream",
          "text": [
            "['blue', 'red', 'white']\n"
          ],
          "name": "stdout"
        }
      ]
    },
    {
      "cell_type": "markdown",
      "metadata": {
        "collapsed": true,
        "id": "yOLlzZeVr4oe",
        "colab_type": "text"
      },
      "source": [
        "### 8.converting strings to lists:"
      ]
    },
    {
      "cell_type": "code",
      "metadata": {
        "id": "P1J0hpHKr4of",
        "colab_type": "code",
        "outputId": "950f3fbd-1f1c-4cc0-c716-7970697f777f",
        "colab": {
          "base_uri": "https://localhost:8080/"
        }
      },
      "source": [
        "myString = 'INSAID'\n",
        "\n",
        "# Convert myString to List\n",
        "myList=list(myString)\n",
        "print(myList)"
      ],
      "execution_count": 0,
      "outputs": [
        {
          "output_type": "stream",
          "text": [
            "['I', 'N', 'S', 'A', 'I', 'D']\n"
          ],
          "name": "stdout"
        }
      ]
    },
    {
      "cell_type": "markdown",
      "metadata": {
        "id": "Gx_NtC__r4oh",
        "colab_type": "text"
      },
      "source": [
        "### 9.Assign different data types to a varibles"
      ]
    },
    {
      "cell_type": "code",
      "metadata": {
        "id": "MiXFgOS9r4oj",
        "colab_type": "code",
        "colab": {}
      },
      "source": [
        "# Try string, float, boolean, list, tuple, dictionary"
      ],
      "execution_count": 0,
      "outputs": []
    },
    {
      "cell_type": "markdown",
      "metadata": {
        "id": "Fb9n5ICGr4oq",
        "colab_type": "text"
      },
      "source": [
        "## Section"
      ]
    },
    {
      "cell_type": "markdown",
      "metadata": {
        "collapsed": true,
        "id": "aFzoO7Ulr4or",
        "colab_type": "text"
      },
      "source": [
        "### Print out a string that uses a formatter"
      ]
    },
    {
      "cell_type": "code",
      "metadata": {
        "id": "CY831Zc-r4os",
        "colab_type": "code",
        "outputId": "cc2bdcf9-951a-4e2d-fdac-169f76d13ff7",
        "colab": {
          "base_uri": "https://localhost:8080/"
        }
      },
      "source": [
        "# Print \"john has 5 cars.\" using formatter\n",
        "print('John has {} cars'.format(5))"
      ],
      "execution_count": 0,
      "outputs": [
        {
          "output_type": "stream",
          "text": [
            "John has 5 cars\n"
          ],
          "name": "stdout"
        }
      ]
    },
    {
      "cell_type": "markdown",
      "metadata": {
        "id": "enmmA1fUr4ov",
        "colab_type": "text"
      },
      "source": [
        "### We can also assign a variable to be equal to the value of a string that has formatter placeholders:"
      ]
    },
    {
      "cell_type": "code",
      "metadata": {
        "id": "s4_JnAdXr4ow",
        "colab_type": "code",
        "outputId": "75365039-6e85-43cc-b79e-2f818016e386",
        "colab": {
          "base_uri": "https://localhost:8080/"
        }
      },
      "source": [
        "open_string = \"john likes {}.\"\n",
        "\n",
        "# Use format method to print the following output \"john likes open source.\"\n",
        "print(open_string.format('open source'))"
      ],
      "execution_count": 0,
      "outputs": [
        {
          "output_type": "stream",
          "text": [
            "john likes open source.\n"
          ],
          "name": "stdout"
        }
      ]
    },
    {
      "cell_type": "markdown",
      "metadata": {
        "id": "fmQF4QOJr4oy",
        "colab_type": "text"
      },
      "source": [
        "### Using Formatters with Multiple Placeholders"
      ]
    },
    {
      "cell_type": "code",
      "metadata": {
        "id": "S6SFUJTDr4oz",
        "colab_type": "code",
        "outputId": "ec44fb5a-b6d3-4064-9675-b08272fc337b",
        "colab": {
          "base_uri": "https://localhost:8080/"
        }
      },
      "source": [
        "new_open_string = \"john likes {} {}.\"                      #2 {} placeholders\n",
        "# Pass 2 strings into format method, separated by a comma to get output \"john likes open-source software.\"\n",
        "print(new_open_string.format('open-source','software'))"
      ],
      "execution_count": 0,
      "outputs": [
        {
          "output_type": "stream",
          "text": [
            "john likes open-source software.\n"
          ],
          "name": "stdout"
        }
      ]
    },
    {
      "cell_type": "code",
      "metadata": {
        "id": "UM2L4-1-r4o3",
        "colab_type": "code",
        "outputId": "bcc2b784-abb8-4584-d19b-9c3a7a9313dc",
        "colab": {
          "base_uri": "https://localhost:8080/"
        }
      },
      "source": [
        "sammy_string = \"john loves {} {}, and has {} {}.\"                      #4 {} placeholders\n",
        "# Pass 4 strings into method to get output \"john loves open-source software, and has 5 balloons.\"\n",
        "print(sammy_string.format('open-source','software',5,'balloons'))"
      ],
      "execution_count": 0,
      "outputs": [
        {
          "output_type": "stream",
          "text": [
            "john loves open-source software, and has 5 balloons.\n"
          ],
          "name": "stdout"
        }
      ]
    },
    {
      "cell_type": "markdown",
      "metadata": {
        "id": "uvqxFJd2r4o6",
        "colab_type": "text"
      },
      "source": [
        "### Reordering Formatters with Positional and Keyword Arguments\n"
      ]
    },
    {
      "cell_type": "code",
      "metadata": {
        "id": "C-ux-Avur4o7",
        "colab_type": "code",
        "outputId": "2aaaefe3-592e-40dd-ea89-c79d30f2619d",
        "colab": {
          "base_uri": "https://localhost:8080/"
        }
      },
      "source": [
        "# Reference sample\n",
        "print(\"john the {} has a pet {}!\".format(\"shark\", \"pilot fish\"))\n",
        "print(\"john the {} has a pet {}!\".format(\"shark\", \"pilot fish\"))"
      ],
      "execution_count": 0,
      "outputs": [
        {
          "output_type": "stream",
          "text": [
            "john the shark has a pet pilot fish!\n",
            "john the shark has a pet pilot fish!\n"
          ],
          "name": "stdout"
        }
      ]
    },
    {
      "cell_type": "markdown",
      "metadata": {
        "id": "cMh40b7vr4o-",
        "colab_type": "text"
      },
      "source": [
        "### We can pass these index numbers into the curly braces that serve as the placeholders in the original string:"
      ]
    },
    {
      "cell_type": "code",
      "metadata": {
        "id": "jSQI-gIar4o_",
        "colab_type": "code",
        "outputId": "493b854a-e2f0-4dd2-ec38-da9246a4cda2",
        "colab": {
          "base_uri": "https://localhost:8080/",
          "height": 50
        }
      },
      "source": [
        "# Reference Sample\n",
        "print(\"john the {0} has a pet {1}!\".format(\"shark\", \"pilot fish\"))\n",
        "\n",
        "print(\"john is a {}, {}, and {} {}!\".format(\"happy\", \"smiling\", \"blue\", \"shark\"))\n"
      ],
      "execution_count": 0,
      "outputs": [
        {
          "output_type": "stream",
          "text": [
            "john the shark has a pet pilot fish!\n",
            "john is a happy, smiling, and blue shark!\n"
          ],
          "name": "stdout"
        }
      ]
    },
    {
      "cell_type": "markdown",
      "metadata": {
        "id": "NFzE4KOar4pC",
        "colab_type": "text"
      },
      "source": [
        "### Python Program to Get String Input from User\n"
      ]
    },
    {
      "cell_type": "code",
      "metadata": {
        "id": "KoH-eRG0r4pD",
        "colab_type": "code",
        "colab": {}
      },
      "source": [
        "#Enter any string and print it\n",
        "inputstring=input('What is it that you want to say?')\n",
        "print(inputstring)"
      ],
      "execution_count": 0,
      "outputs": []
    },
    {
      "cell_type": "markdown",
      "metadata": {
        "collapsed": true,
        "id": "6PzLHR_wr4pG",
        "colab_type": "text"
      },
      "source": [
        "### Python program for conditional statements\n",
        "\n",
        "### 1)If the student receives over 65% on her test, report that her grade passes; if not, report that her grade fails"
      ]
    },
    {
      "cell_type": "code",
      "metadata": {
        "id": "uq-VSi6Ir4pH",
        "colab_type": "code",
        "colab": {}
      },
      "source": [
        "grade = 70\n",
        "print(type(grade))\n",
        "if grade > 65:\n",
        "  print('Grade-Passed')\n",
        "else:\n",
        "  print('Grade - Failed')\n",
        "\n"
      ],
      "execution_count": 0,
      "outputs": []
    },
    {
      "cell_type": "code",
      "metadata": {
        "id": "92_kKX4Nr4pL",
        "colab_type": "code",
        "colab": {}
      },
      "source": [
        "# Use only if\n",
        "grade = 60\n",
        "if grade > 65:\n",
        "  print('Grade-Passed')\n",
        "else:\n",
        "  print('Grade - Failed')\n"
      ],
      "execution_count": 0,
      "outputs": []
    },
    {
      "cell_type": "markdown",
      "metadata": {
        "id": "E58hWk27r4pO",
        "colab_type": "text"
      },
      "source": [
        "### Write a python program calculate whether a bank account balance is below 0 and print appropriate message."
      ]
    },
    {
      "cell_type": "code",
      "metadata": {
        "id": "X8q8BHxvr4pO",
        "colab_type": "code",
        "colab": {}
      },
      "source": [
        "# Use if else\n",
        "balance = 522\n",
        "if balance<0:\n",
        "  print('Negative balance')\n",
        "else:\n",
        "  print('POsitive balance')\n"
      ],
      "execution_count": 0,
      "outputs": []
    },
    {
      "cell_type": "markdown",
      "metadata": {
        "id": "-4KtN0GVr4pQ",
        "colab_type": "text"
      },
      "source": [
        "### Using Else if statement"
      ]
    },
    {
      "cell_type": "code",
      "metadata": {
        "id": "YKMDc6Tsr4pR",
        "colab_type": "code",
        "colab": {}
      },
      "source": [
        "balance = 522\n",
        "\n",
        "if balance<0:\n",
        "  print('Negative balance')\n",
        "elif balance>0:\n",
        "  print('POsitive balance')"
      ],
      "execution_count": 0,
      "outputs": []
    },
    {
      "cell_type": "markdown",
      "metadata": {
        "id": "lI2u3mHTr4pS",
        "colab_type": "text"
      },
      "source": [
        "### Python program to print  Fibonacci series between 0 to 50."
      ]
    },
    {
      "cell_type": "code",
      "metadata": {
        "id": "tTi7eVbTr4pT",
        "colab_type": "code",
        "colab": {}
      },
      "source": [
        "n=50\n",
        "a=0\n",
        "b=1\n",
        "count=1\n",
        "\n",
        "print('Fibonacci series between 0 and 50 terms is:')\n",
        "while count <n:\n",
        "  print (a,end=\",\")\n",
        "  nth=a+b\n",
        "  a=b\n",
        "  b=nth\n",
        "  count=count+1\n",
        "n=50\n",
        "a=0\n",
        "b=1\n",
        "count=1\n",
        "\n",
        "\n",
        "print('\\n Fibonacci series between 0 and 50  is:')\n",
        "while (a+b) <n:\n",
        "  print (a,end=\",\")\n",
        "  nth=a+b\n",
        "  a=b\n",
        "  b=nth\n",
        "  count=count+1"
      ],
      "execution_count": 0,
      "outputs": []
    },
    {
      "cell_type": "markdown",
      "metadata": {
        "id": "RWvzE_0Yr4pV",
        "colab_type": "text"
      },
      "source": [
        "### Python program to find numbers which are divisible by 7 and multiple of 5 between a range 150 to 270"
      ]
    },
    {
      "cell_type": "code",
      "metadata": {
        "id": "z2TgEHTMr4pW",
        "colab_type": "code",
        "colab": {}
      },
      "source": [
        "for number in range (150,270):\n",
        "  if number %7==0 and number %5==0:\n",
        "     print(number)"
      ],
      "execution_count": 0,
      "outputs": []
    },
    {
      "cell_type": "markdown",
      "metadata": {
        "id": "5mKAGbEpr4pX",
        "colab_type": "text"
      },
      "source": [
        "### Python program to Sum all the items in a list"
      ]
    },
    {
      "cell_type": "code",
      "metadata": {
        "id": "v9KzPwJXr4pY",
        "colab_type": "code",
        "colab": {}
      },
      "source": [
        "def sum_list(items):\n",
        "    sum_total=0\n",
        "    for x in items:\n",
        "      sum_total=sum_total+x\n",
        "    return sum_total\n",
        "print(sum_list([20,12,20,22]))"
      ],
      "execution_count": 0,
      "outputs": []
    },
    {
      "cell_type": "markdown",
      "metadata": {
        "id": "fmFbuqA_r4pZ",
        "colab_type": "text"
      },
      "source": [
        "### Python program to Remove duplicates from a list."
      ]
    },
    {
      "cell_type": "code",
      "metadata": {
        "id": "6jWbCqqar4pa",
        "colab_type": "code",
        "colab": {}
      },
      "source": [
        "a = [10,20,30,40,50,60,40,70,30,80,50,40,120,50,30,20]\n",
        "dup_items = set()\n",
        "uniq_items = []\n",
        "for x in a:\n",
        "  if x not in dup_items:\n",
        "    uniq_items.append(x)\n",
        "    dup_items.add(x)\n",
        "print(dup_items)  \n"
      ],
      "execution_count": 0,
      "outputs": []
    },
    {
      "cell_type": "markdown",
      "metadata": {
        "id": "Kv4XSh_3r4pc",
        "colab_type": "text"
      },
      "source": [
        "### Python program to Get the largest number from a list."
      ]
    },
    {
      "cell_type": "code",
      "metadata": {
        "id": "cev33clIr4pc",
        "colab_type": "code",
        "colab": {}
      },
      "source": [
        "def max_num_in_list( list ):\n",
        "    max_num=list[0]\n",
        "    for a in list:\n",
        "      if a>max_num:\n",
        "          max_num=a\n",
        "    return max_num\n",
        "print(max_num_in_list([1, 12, 28, 0]))"
      ],
      "execution_count": 0,
      "outputs": []
    },
    {
      "cell_type": "markdown",
      "metadata": {
        "id": "e6OLBeSLr4pf",
        "colab_type": "text"
      },
      "source": [
        "### Concatenation of Tuples."
      ]
    },
    {
      "cell_type": "code",
      "metadata": {
        "id": "2u_lBwu_r4pg",
        "colab_type": "code",
        "colab": {}
      },
      "source": [
        "# Code for concatenating 2 tuples\n",
        " \n",
        "tuple1 = (0, 1, 2, 3)\n",
        "tuple2 = ('python', 'code')\n",
        " \n",
        "# Concatenating above two\n",
        "print(tuple1+tuple2)"
      ],
      "execution_count": 0,
      "outputs": []
    },
    {
      "cell_type": "markdown",
      "metadata": {
        "id": "f11CYYj2r4pk",
        "colab_type": "text"
      },
      "source": [
        "### Nesting of Tuples."
      ]
    },
    {
      "cell_type": "code",
      "metadata": {
        "id": "li80TbrAr4pk",
        "colab_type": "code",
        "colab": {}
      },
      "source": [
        "# Code for creating nested tuples\n",
        " \n",
        "tuple1 = (0, 1, 2, 3)\n",
        "tuple2 = ('python', 'code')\n",
        "tuple3  =(tuple1,tuple2)\n",
        "print(tuple3)\n"
      ],
      "execution_count": 0,
      "outputs": []
    },
    {
      "cell_type": "markdown",
      "metadata": {
        "id": "RSVlxWc2r4px",
        "colab_type": "text"
      },
      "source": [
        "### Write a Python program to add an item in a tuple."
      ]
    },
    {
      "cell_type": "code",
      "metadata": {
        "id": "5GzDpFKJr4py",
        "colab_type": "code",
        "colab": {}
      },
      "source": [
        "# Create a tuple & print\n",
        "tuple1=(1,2,3,5,7,9)\n",
        "print(tuple1)\n",
        "#tuples are immutable, so you can not add new elements\n",
        "#using merge of tuples with the + operator you can add an element and it will create a new tuple\n",
        "tuple1=tuple1[:6]+(27,28,29)\n",
        "# Adding items in a specific index\n",
        "print(tuple1)\n"
      ],
      "execution_count": 0,
      "outputs": []
    },
    {
      "cell_type": "markdown",
      "metadata": {
        "id": "JnkWKjk7r4p0",
        "colab_type": "text"
      },
      "source": [
        "### Write a Python program to remove an item from a tuple."
      ]
    },
    {
      "cell_type": "code",
      "metadata": {
        "id": "jje8flMjr4p1",
        "colab_type": "code",
        "colab": {}
      },
      "source": [
        "# Create a tuple and print it\n",
        "tuple2=(1,2,3,4,5,6)\n",
        "list2=list(tuple2)\n",
        "# Find a way to remove an item of the tuple (Hint: Use other data types)\n",
        "list2.remove(3)\n",
        "tuple2=list2\n",
        "print(tuple2)"
      ],
      "execution_count": 0,
      "outputs": []
    },
    {
      "cell_type": "markdown",
      "metadata": {
        "id": "4nT3lzrCr4p3",
        "colab_type": "text"
      },
      "source": [
        "### Python Program to Check if a given key already exists in a dictionary."
      ]
    },
    {
      "cell_type": "code",
      "metadata": {
        "id": "B6UfVSGEr4p4",
        "colab_type": "code",
        "colab": {}
      },
      "source": [
        "d = {1: 10, 2: 20, 3: 30, 4: 40, 5: 50, 6: 60}\n",
        "def is_key_present(x):\n",
        "  if x in d:\n",
        "    print('Key is present',x) \n",
        "  else:\n",
        "    print('Key is not present',x)  \n",
        "  return x\n",
        "is_key_present(5)\n",
        "is_key_present(9)"
      ],
      "execution_count": 0,
      "outputs": []
    },
    {
      "cell_type": "markdown",
      "metadata": {
        "id": "gI82J7oLr4p6",
        "colab_type": "text"
      },
      "source": [
        "### Write a Python script to merge two Python dictionaries."
      ]
    },
    {
      "cell_type": "code",
      "metadata": {
        "id": "ULhhGq_6r4p7",
        "colab_type": "code",
        "colab": {}
      },
      "source": [
        "d1 = {'a': 100, 'b': 200}\n",
        "d2 = {'x': 300, 'y': 200}\n",
        "d3=d1.copy()\n",
        "d3.update(d2)\n",
        "print(d3)\n",
        "# Your code"
      ],
      "execution_count": 0,
      "outputs": []
    },
    {
      "cell_type": "markdown",
      "metadata": {
        "id": "k_0rQLQDr4p_",
        "colab_type": "text"
      },
      "source": [
        "### Write a Python function to find the Max of three numbers."
      ]
    },
    {
      "cell_type": "code",
      "metadata": {
        "id": "xZQHs6wpr4qA",
        "colab_type": "code",
        "colab": {}
      },
      "source": [
        "def max_of_two( x, y ):\n",
        "    if x > y:\n",
        "         return x\n",
        "    return y\n",
        "def max_of_three( x, y, z ):\n",
        "    return max_of_two( x, max_of_two( y, z ) )\n",
        "    \n",
        "print(max_of_three(13, 26, -5))"
      ],
      "execution_count": 0,
      "outputs": []
    },
    {
      "cell_type": "markdown",
      "metadata": {
        "collapsed": true,
        "id": "kkgxpY-Rr4qC",
        "colab_type": "text"
      },
      "source": [
        "### Write a Python program to reverse a string."
      ]
    },
    {
      "cell_type": "code",
      "metadata": {
        "id": "B4sZSfhFr4qD",
        "colab_type": "code",
        "colab": {}
      },
      "source": [
        "def string_reverse(str1):\n",
        "    reverse_string=''\n",
        "    index=len(str1)\n",
        "    while index >0:\n",
        "      reverse_string+=str1[index-1]       #reverse_string=reverse_string+str1[index-1]\n",
        "    return reverse_string\n",
        "print(string_reverse('INSAID'))"
      ],
      "execution_count": 0,
      "outputs": []
    },
    {
      "cell_type": "markdown",
      "metadata": {
        "collapsed": true,
        "id": "9sZ22Q7pr4qF",
        "colab_type": "text"
      },
      "source": [
        "### Write a Python function to calculate the factorial of a number "
      ]
    },
    {
      "cell_type": "code",
      "metadata": {
        "id": "5fJ1Zndpr4qG",
        "colab_type": "code",
        "colab": {}
      },
      "source": [
        "def factorial(n):\n",
        "    # Your code here\n",
        "    return # The answer\n",
        "n=int(input(\"Input a number to compute the factiorial : \"))\n",
        "print(factorial(n))"
      ],
      "execution_count": 0,
      "outputs": []
    },
    {
      "cell_type": "markdown",
      "metadata": {
        "id": "NqC2EYo8r4qI",
        "colab_type": "text"
      },
      "source": [
        "### Write a Python function to sum all the numbers in a list."
      ]
    },
    {
      "cell_type": "code",
      "metadata": {
        "id": "99Wj8Jycr4qJ",
        "colab_type": "code",
        "colab": {}
      },
      "source": [
        "def sum(numbers):\n",
        "    # Your code goes here\n",
        "    return # Your Answer\n",
        "print(sum((8, 2, 3, 0, 7)))"
      ],
      "execution_count": 0,
      "outputs": []
    },
    {
      "cell_type": "markdown",
      "metadata": {
        "collapsed": true,
        "id": "fH2gsTr0r4qM",
        "colab_type": "text"
      },
      "source": [
        "### Write a Python function to check whether a number is in a given range."
      ]
    },
    {
      "cell_type": "code",
      "metadata": {
        "id": "w_kzXZX5r4qN",
        "colab_type": "code",
        "colab": {}
      },
      "source": [
        "def test_range(n):\n",
        "    # Your code\n",
        "    return # Your answer \n",
        "test_range(5)"
      ],
      "execution_count": 0,
      "outputs": []
    },
    {
      "cell_type": "markdown",
      "metadata": {
        "id": "3JGBGJlAr4qQ",
        "colab_type": "text"
      },
      "source": [
        "### Find the value of pi using math module."
      ]
    },
    {
      "cell_type": "code",
      "metadata": {
        "id": "6s5rHfK6r4qR",
        "colab_type": "code",
        "colab": {}
      },
      "source": [
        "# import statement example\n",
        "# to import standard module math\n",
        "\n",
        "import math\n"
      ],
      "execution_count": 0,
      "outputs": []
    },
    {
      "cell_type": "markdown",
      "metadata": {
        "id": "KpIFDtD3r4qT",
        "colab_type": "text"
      },
      "source": [
        "### Write a Python program to read an entire text file.\n",
        "\n",
        "### Content of text.txt.\n",
        "\n",
        "### What is Python language?      \n",
        "\n",
        "#### Python is a widely used high-level, general-purpose, interpreted, dynamic programming language."
      ]
    },
    {
      "cell_type": "code",
      "metadata": {
        "id": "5mXMUQU9r4qU",
        "colab_type": "code",
        "colab": {}
      },
      "source": [
        "def file_read(fname):\n",
        "    # Your code goes in here\n",
        "    return\n",
        "\n",
        "file_read('test.txt')"
      ],
      "execution_count": 0,
      "outputs": []
    },
    {
      "cell_type": "markdown",
      "metadata": {
        "collapsed": true,
        "id": "ltnXrNh9r4qW",
        "colab_type": "text"
      },
      "source": [
        "### Write a Python program to read a file line by line and store it into a list."
      ]
    },
    {
      "cell_type": "code",
      "metadata": {
        "id": "bZwYSan5r4qW",
        "colab_type": "code",
        "colab": {}
      },
      "source": [
        "def file_read(fname):\n",
        "        # Your code goes in here\n",
        "        return\n",
        "\n",
        "file_read('test.txt')"
      ],
      "execution_count": 0,
      "outputs": []
    },
    {
      "cell_type": "markdown",
      "metadata": {
        "id": "faWTACQMr4qY",
        "colab_type": "text"
      },
      "source": [
        "### A python program to create user-defined exception."
      ]
    },
    {
      "cell_type": "code",
      "metadata": {
        "id": "maHp9YdMr4qY",
        "colab_type": "code",
        "colab": {}
      },
      "source": [
        "class MyError(Exception):\n",
        " \n",
        "    # Constructor or Initializer\n",
        "    def __init__(self, value):\n",
        "        self.value = value\n",
        " \n",
        "    # __str__ is to print() the value\n",
        "    def __str__(self):\n",
        "        return # Your code goes here to get -> 'A New Exception occured: 0.42857142857142855'\n",
        " \n",
        "try:\n",
        "    raise(MyError(3/7))\n",
        " \n",
        "except MyError as error:\n",
        "    print(error)\n"
      ],
      "execution_count": 0,
      "outputs": []
    },
    {
      "cell_type": "markdown",
      "metadata": {
        "id": "ugJgq3-Gr4qf",
        "colab_type": "text"
      },
      "source": [
        "### Write a Python program to calculate the discriminant value. (b <sup>2</sup> - 4ac)"
      ]
    },
    {
      "cell_type": "code",
      "metadata": {
        "id": "efM03-Y0r4qi",
        "colab_type": "code",
        "colab": {}
      },
      "source": [
        "def discriminant():\n",
        "    a_value = float(input('The a value: '))\n",
        "    b_value = float(input('The b value: '))\n",
        "    c_value = float(input('The c value: '))\n",
        "    \n",
        "    # Calculate the discriminant here\n",
        "    \n",
        "    return # The value\n",
        "\n",
        "\n",
        "discriminant()\n"
      ],
      "execution_count": 0,
      "outputs": []
    },
    {
      "cell_type": "code",
      "metadata": {
        "id": "PYfAyFTkr4ql",
        "colab_type": "code",
        "colab": {}
      },
      "source": [
        "print('Hello World')"
      ],
      "execution_count": 0,
      "outputs": []
    },
    {
      "cell_type": "code",
      "metadata": {
        "id": "XRMieQ_4r4qn",
        "colab_type": "code",
        "colab": {}
      },
      "source": [
        "print('What am I typing are you able to see?')"
      ],
      "execution_count": 0,
      "outputs": []
    }
  ]
}