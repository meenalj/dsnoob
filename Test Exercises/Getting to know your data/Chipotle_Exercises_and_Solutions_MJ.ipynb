{
  "nbformat": 4,
  "nbformat_minor": 0,
  "metadata": {
    "anaconda-cloud": {},
    "kernelspec": {
      "display_name": "Python [default]",
      "language": "python",
      "name": "python2"
    },
    "language_info": {
      "codemirror_mode": {
        "name": "ipython",
        "version": 2
      },
      "file_extension": ".py",
      "mimetype": "text/x-python",
      "name": "python",
      "nbconvert_exporter": "python",
      "pygments_lexer": "ipython2",
      "version": "2.7.12"
    },
    "colab": {
      "name": "Chipotle Exercises and Solutions MJ.ipynb",
      "provenance": [],
      "include_colab_link": true
    }
  },
  "cells": [
    {
      "cell_type": "markdown",
      "metadata": {
        "id": "view-in-github",
        "colab_type": "text"
      },
      "source": [
        "<a href=\"https://colab.research.google.com/github/meenalj/dsnoob/blob/master/Chipotle_Exercises_and_Solutions_MJ.ipynb\" target=\"_parent\"><img src=\"https://colab.research.google.com/assets/colab-badge.svg\" alt=\"Open In Colab\"/></a>"
      ]
    },
    {
      "cell_type": "markdown",
      "metadata": {
        "id": "Yn6mSf-5QQX5",
        "colab_type": "text"
      },
      "source": [
        "# Ex2 - Getting and Knowing your Data"
      ]
    },
    {
      "cell_type": "markdown",
      "metadata": {
        "id": "eGQFj3DzQQX7",
        "colab_type": "text"
      },
      "source": [
        "This time we are going to pull data directly from the internet.\n",
        "Special thanks to: https://github.com/justmarkham for sharing the dataset and materials.\n",
        "\n",
        "### Step 1. Import the necessary libraries"
      ]
    },
    {
      "cell_type": "code",
      "metadata": {
        "id": "3fnKvVLVQQX8",
        "colab_type": "code",
        "colab": {}
      },
      "source": [
        "import pandas as pd\n",
        "import numpy as np"
      ],
      "execution_count": 0,
      "outputs": []
    },
    {
      "cell_type": "code",
      "metadata": {
        "id": "9zrMfqMbSeT1",
        "colab_type": "code",
        "colab": {}
      },
      "source": [
        "address='https://raw.githubusercontent.com/justmarkham/DAT8/master/data/chipotle.tsv'"
      ],
      "execution_count": 0,
      "outputs": []
    },
    {
      "cell_type": "code",
      "metadata": {
        "id": "SdbLVwcSSpTj",
        "colab_type": "code",
        "outputId": "044cf26e-11d9-42d4-b1fc-39316b3843f2",
        "colab": {
          "base_uri": "https://localhost:8080/",
          "height": 34
        }
      },
      "source": [
        "print address"
      ],
      "execution_count": 65,
      "outputs": [
        {
          "output_type": "stream",
          "text": [
            "https://raw.githubusercontent.com/justmarkham/DAT8/master/data/chipotle.tsv\n"
          ],
          "name": "stdout"
        }
      ]
    },
    {
      "cell_type": "code",
      "metadata": {
        "id": "8PHOzRfWSryr",
        "colab_type": "code",
        "colab": {}
      },
      "source": [
        ""
      ],
      "execution_count": 0,
      "outputs": []
    },
    {
      "cell_type": "markdown",
      "metadata": {
        "id": "vH19MONUQQX_",
        "colab_type": "text"
      },
      "source": [
        "### Step 2. Import the dataset from this [address](https://raw.githubusercontent.com/justmarkham/DAT8/master/data/chipotle.tsv). "
      ]
    },
    {
      "cell_type": "markdown",
      "metadata": {
        "id": "kSRqdDMM5KqM",
        "colab_type": "text"
      },
      "source": [
        "Read_csv is the command used to read the dataset. Has to be prefixed with pd - shortcut for pandas"
      ]
    },
    {
      "cell_type": "markdown",
      "metadata": {
        "id": "hecicG8kQQYA",
        "colab_type": "text"
      },
      "source": [
        "### Step 3. Assign it to a variable called chipo."
      ]
    },
    {
      "cell_type": "code",
      "metadata": {
        "id": "JHATBJylQQYB",
        "colab_type": "code",
        "colab": {}
      },
      "source": [
        "chipo =pd.read_csv(address,sep='\\t')"
      ],
      "execution_count": 0,
      "outputs": []
    },
    {
      "cell_type": "markdown",
      "metadata": {
        "id": "MSB1JOJXQQYD",
        "colab_type": "text"
      },
      "source": [
        "### Step 4. See the first 10 entries"
      ]
    },
    {
      "cell_type": "markdown",
      "metadata": {
        "id": "09yMnmyQ7Cd5",
        "colab_type": "text"
      },
      "source": [
        "First 10 - > Similar to unix -> head"
      ]
    },
    {
      "cell_type": "code",
      "metadata": {
        "scrolled": false,
        "id": "NJa2LGVKQQYE",
        "colab_type": "code",
        "colab": {
          "base_uri": "https://localhost:8080/",
          "height": 343
        },
        "outputId": "fd1b97ea-0fcb-4c92-fb7d-1e06a0b0f912"
      },
      "source": [
        "chipo.head(10)"
      ],
      "execution_count": 67,
      "outputs": [
        {
          "output_type": "execute_result",
          "data": {
            "text/html": [
              "<div>\n",
              "<style scoped>\n",
              "    .dataframe tbody tr th:only-of-type {\n",
              "        vertical-align: middle;\n",
              "    }\n",
              "\n",
              "    .dataframe tbody tr th {\n",
              "        vertical-align: top;\n",
              "    }\n",
              "\n",
              "    .dataframe thead th {\n",
              "        text-align: right;\n",
              "    }\n",
              "</style>\n",
              "<table border=\"1\" class=\"dataframe\">\n",
              "  <thead>\n",
              "    <tr style=\"text-align: right;\">\n",
              "      <th></th>\n",
              "      <th>order_id</th>\n",
              "      <th>quantity</th>\n",
              "      <th>item_name</th>\n",
              "      <th>choice_description</th>\n",
              "      <th>item_price</th>\n",
              "    </tr>\n",
              "  </thead>\n",
              "  <tbody>\n",
              "    <tr>\n",
              "      <th>0</th>\n",
              "      <td>1</td>\n",
              "      <td>1</td>\n",
              "      <td>Chips and Fresh Tomato Salsa</td>\n",
              "      <td>NaN</td>\n",
              "      <td>$2.39</td>\n",
              "    </tr>\n",
              "    <tr>\n",
              "      <th>1</th>\n",
              "      <td>1</td>\n",
              "      <td>1</td>\n",
              "      <td>Izze</td>\n",
              "      <td>[Clementine]</td>\n",
              "      <td>$3.39</td>\n",
              "    </tr>\n",
              "    <tr>\n",
              "      <th>2</th>\n",
              "      <td>1</td>\n",
              "      <td>1</td>\n",
              "      <td>Nantucket Nectar</td>\n",
              "      <td>[Apple]</td>\n",
              "      <td>$3.39</td>\n",
              "    </tr>\n",
              "    <tr>\n",
              "      <th>3</th>\n",
              "      <td>1</td>\n",
              "      <td>1</td>\n",
              "      <td>Chips and Tomatillo-Green Chili Salsa</td>\n",
              "      <td>NaN</td>\n",
              "      <td>$2.39</td>\n",
              "    </tr>\n",
              "    <tr>\n",
              "      <th>4</th>\n",
              "      <td>2</td>\n",
              "      <td>2</td>\n",
              "      <td>Chicken Bowl</td>\n",
              "      <td>[Tomatillo-Red Chili Salsa (Hot), [Black Beans...</td>\n",
              "      <td>$16.98</td>\n",
              "    </tr>\n",
              "    <tr>\n",
              "      <th>5</th>\n",
              "      <td>3</td>\n",
              "      <td>1</td>\n",
              "      <td>Chicken Bowl</td>\n",
              "      <td>[Fresh Tomato Salsa (Mild), [Rice, Cheese, Sou...</td>\n",
              "      <td>$10.98</td>\n",
              "    </tr>\n",
              "    <tr>\n",
              "      <th>6</th>\n",
              "      <td>3</td>\n",
              "      <td>1</td>\n",
              "      <td>Side of Chips</td>\n",
              "      <td>NaN</td>\n",
              "      <td>$1.69</td>\n",
              "    </tr>\n",
              "    <tr>\n",
              "      <th>7</th>\n",
              "      <td>4</td>\n",
              "      <td>1</td>\n",
              "      <td>Steak Burrito</td>\n",
              "      <td>[Tomatillo Red Chili Salsa, [Fajita Vegetables...</td>\n",
              "      <td>$11.75</td>\n",
              "    </tr>\n",
              "    <tr>\n",
              "      <th>8</th>\n",
              "      <td>4</td>\n",
              "      <td>1</td>\n",
              "      <td>Steak Soft Tacos</td>\n",
              "      <td>[Tomatillo Green Chili Salsa, [Pinto Beans, Ch...</td>\n",
              "      <td>$9.25</td>\n",
              "    </tr>\n",
              "    <tr>\n",
              "      <th>9</th>\n",
              "      <td>5</td>\n",
              "      <td>1</td>\n",
              "      <td>Steak Burrito</td>\n",
              "      <td>[Fresh Tomato Salsa, [Rice, Black Beans, Pinto...</td>\n",
              "      <td>$9.25</td>\n",
              "    </tr>\n",
              "  </tbody>\n",
              "</table>\n",
              "</div>"
            ],
            "text/plain": [
              "   order_id  ...  item_price\n",
              "0         1  ...      $2.39 \n",
              "1         1  ...      $3.39 \n",
              "2         1  ...      $3.39 \n",
              "3         1  ...      $2.39 \n",
              "4         2  ...     $16.98 \n",
              "5         3  ...     $10.98 \n",
              "6         3  ...      $1.69 \n",
              "7         4  ...     $11.75 \n",
              "8         4  ...      $9.25 \n",
              "9         5  ...      $9.25 \n",
              "\n",
              "[10 rows x 5 columns]"
            ]
          },
          "metadata": {
            "tags": []
          },
          "execution_count": 67
        }
      ]
    },
    {
      "cell_type": "markdown",
      "metadata": {
        "id": "H5lDwRAfQQYG",
        "colab_type": "text"
      },
      "source": [
        "### Step 5. What is the number of observations in the dataset?"
      ]
    },
    {
      "cell_type": "markdown",
      "metadata": {
        "id": "1W5MgyHw7jd2",
        "colab_type": "text"
      },
      "source": [
        "Use shape - shape is a tuple that gives dimensions of the array.. shape is a tuple that gives you an indication of the number of dimensions in the array. "
      ]
    },
    {
      "cell_type": "code",
      "metadata": {
        "id": "ICFYHibtQQYH",
        "colab_type": "code",
        "colab": {
          "base_uri": "https://localhost:8080/",
          "height": 34
        },
        "outputId": "049e15f9-98b9-485b-f87d-496401048545"
      },
      "source": [
        "# Solution 1\n",
        "chipo.shape[0]\n",
        "\n"
      ],
      "execution_count": 68,
      "outputs": [
        {
          "output_type": "execute_result",
          "data": {
            "text/plain": [
              "4622"
            ]
          },
          "metadata": {
            "tags": []
          },
          "execution_count": 68
        }
      ]
    },
    {
      "cell_type": "markdown",
      "metadata": {
        "id": "-UbHDjR071EB",
        "colab_type": "text"
      },
      "source": [
        "Pandas DataFrame is two-dimensional size-mutable, potentially heterogeneous tabular data structure with labeled axes (rows and columns). A Data frame is a two-dimensional data structure, i.e., data is aligned in a tabular fashion in rows and columns. Pandas DataFrame consists of three principal components, the data, rows, and columns.\n",
        "Use Info to get details around this"
      ]
    },
    {
      "cell_type": "code",
      "metadata": {
        "id": "bmPrErc9QQYJ",
        "colab_type": "code",
        "colab": {
          "base_uri": "https://localhost:8080/",
          "height": 185
        },
        "outputId": "646dcbb5-a054-421e-e7b1-ab4127381b4f"
      },
      "source": [
        "# Solution 2\n",
        "\n",
        "chipo.info()"
      ],
      "execution_count": 94,
      "outputs": [
        {
          "output_type": "stream",
          "text": [
            "<class 'pandas.core.frame.DataFrame'>\n",
            "RangeIndex: 4622 entries, 0 to 4621\n",
            "Data columns (total 5 columns):\n",
            "order_id              4622 non-null int64\n",
            "quantity              4622 non-null int64\n",
            "item_name             4622 non-null object\n",
            "choice_description    3376 non-null object\n",
            "item_price            4622 non-null object\n",
            "dtypes: int64(2), object(3)\n",
            "memory usage: 180.6+ KB\n"
          ],
          "name": "stdout"
        }
      ]
    },
    {
      "cell_type": "code",
      "metadata": {
        "id": "5wU9SCmM8mIo",
        "colab_type": "code",
        "colab": {}
      },
      "source": [
        ""
      ],
      "execution_count": 0,
      "outputs": []
    },
    {
      "cell_type": "markdown",
      "metadata": {
        "id": "xqQI9VqZQQYL",
        "colab_type": "text"
      },
      "source": [
        "### Step 6. What is the number of columns in the dataset?"
      ]
    },
    {
      "cell_type": "code",
      "metadata": {
        "id": "Yql_2lC8QQYM",
        "colab_type": "code",
        "colab": {
          "base_uri": "https://localhost:8080/",
          "height": 34
        },
        "outputId": "d51c0ef8-174d-4e35-b261-3a65a2285f04"
      },
      "source": [
        "chipo.shape[1]"
      ],
      "execution_count": 70,
      "outputs": [
        {
          "output_type": "execute_result",
          "data": {
            "text/plain": [
              "5"
            ]
          },
          "metadata": {
            "tags": []
          },
          "execution_count": 70
        }
      ]
    },
    {
      "cell_type": "markdown",
      "metadata": {
        "id": "8wz1jUInQQYO",
        "colab_type": "text"
      },
      "source": [
        "### Step 7. Print the name of all the columns."
      ]
    },
    {
      "cell_type": "code",
      "metadata": {
        "id": "QPHGEtSRQQYP",
        "colab_type": "code",
        "colab": {
          "base_uri": "https://localhost:8080/",
          "height": 67
        },
        "outputId": "1a802469-e56f-4ce0-b67c-ab5ee1f6c0cd"
      },
      "source": [
        "chipo.columns"
      ],
      "execution_count": 71,
      "outputs": [
        {
          "output_type": "execute_result",
          "data": {
            "text/plain": [
              "Index([u'order_id', u'quantity', u'item_name', u'choice_description',\n",
              "       u'item_price'],\n",
              "      dtype='object')"
            ]
          },
          "metadata": {
            "tags": []
          },
          "execution_count": 71
        }
      ]
    },
    {
      "cell_type": "code",
      "metadata": {
        "id": "9f7F389q89Eh",
        "colab_type": "code",
        "colab": {}
      },
      "source": [
        ""
      ],
      "execution_count": 0,
      "outputs": []
    },
    {
      "cell_type": "markdown",
      "metadata": {
        "id": "5cVYQkpFQQYR",
        "colab_type": "text"
      },
      "source": [
        "### Step 8. How is the dataset indexed?"
      ]
    },
    {
      "cell_type": "code",
      "metadata": {
        "id": "Tj5ZqEURQQYS",
        "colab_type": "code",
        "colab": {
          "base_uri": "https://localhost:8080/",
          "height": 34
        },
        "outputId": "bffd5e2c-5905-4ff5-9c31-c94dd8545137"
      },
      "source": [
        "chipo.index"
      ],
      "execution_count": 72,
      "outputs": [
        {
          "output_type": "execute_result",
          "data": {
            "text/plain": [
              "RangeIndex(start=0, stop=4622, step=1)"
            ]
          },
          "metadata": {
            "tags": []
          },
          "execution_count": 72
        }
      ]
    },
    {
      "cell_type": "markdown",
      "metadata": {
        "id": "zKwIdVThQQYU",
        "colab_type": "text"
      },
      "source": [
        "### Step 9. Which was the most-ordered item? "
      ]
    },
    {
      "cell_type": "markdown",
      "metadata": {
        "id": "YdiC2aqq-xcA",
        "colab_type": "text"
      },
      "source": [
        "The logic here is, pick item, figure out total quantity using group by, sort by quantity descending which gives maximum quantity of an item ordered, pick top record"
      ]
    },
    {
      "cell_type": "code",
      "metadata": {
        "id": "9qizRwECQQYV",
        "colab_type": "code",
        "colab": {
          "base_uri": "https://localhost:8080/",
          "height": 1000
        },
        "outputId": "a34374aa-8f2e-4e05-bbae-55d933604615"
      },
      "source": [
        "c=chipo.groupby('item_name')\n",
        "print c\n",
        "c=c.sum()\n",
        "print c\n",
        "print('Lets try sorting this')\n",
        "c = c.sort_values(['quantity'], ascending=False)\n",
        "print c\n",
        "print(\"The most ordered item is\",c.head(1))"
      ],
      "execution_count": 73,
      "outputs": [
        {
          "output_type": "stream",
          "text": [
            "<pandas.core.groupby.generic.DataFrameGroupBy object at 0x7f45cf9dea10>\n",
            "                                       order_id  quantity\n",
            "item_name                                                \n",
            "6 Pack Soft Drink                         52322        55\n",
            "Barbacoa Bowl                             53972        66\n",
            "Barbacoa Burrito                          74718        91\n",
            "Barbacoa Crispy Tacos                      5613        12\n",
            "Barbacoa Salad Bowl                        9708        10\n",
            "Barbacoa Soft Tacos                       18725        25\n",
            "Bottled Water                            175944       211\n",
            "Bowl                                        472         4\n",
            "Burrito                                    1550         6\n",
            "Canned Soda                               76396       126\n",
            "Canned Soft Drink                        304753       351\n",
            "Carnitas Bowl                             62742        71\n",
            "Carnitas Burrito                          51652        60\n",
            "Carnitas Crispy Tacos                      5868         8\n",
            "Carnitas Salad                             1500         1\n",
            "Carnitas Salad Bowl                        6693         6\n",
            "Carnitas Soft Tacos                       37673        40\n",
            "Chicken Bowl                             713926       761\n",
            "Chicken Burrito                          497303       591\n",
            "Chicken Crispy Tacos                      47382        50\n",
            "Chicken Salad                             10465         9\n",
            "Chicken Salad Bowl                       117104       123\n",
            "Chicken Soft Tacos                        98395       120\n",
            "Chips                                    208004       230\n",
            "Chips and Fresh Tomato Salsa             100419       130\n",
            "Chips and Guacamole                      449959       506\n",
            "Chips and Mild Fresh Tomato Salsa           279         1\n",
            "Chips and Roasted Chili Corn Salsa        14999        23\n",
            "Chips and Roasted Chili-Corn Salsa        17462        18\n",
            "Chips and Tomatillo Green Chili Salsa     41170        45\n",
            "Chips and Tomatillo Red Chili Salsa       45556        50\n",
            "Chips and Tomatillo-Green Chili Salsa     21826        33\n",
            "Chips and Tomatillo-Red Chili Salsa       18344        25\n",
            "Crispy Tacos                                434         2\n",
            "Izze                                      10587        20\n",
            "Nantucket Nectar                          21814        29\n",
            "Salad                                      1150         2\n",
            "Side of Chips                             84769       110\n",
            "Steak Bowl                               193752       221\n",
            "Steak Burrito                            328437       386\n",
            "Steak Crispy Tacos                        35818        36\n",
            "Steak Salad                                2362         4\n",
            "Steak Salad Bowl                          29590        31\n",
            "Steak Soft Tacos                          50177        56\n",
            "Veggie Bowl                               72270        87\n",
            "Veggie Burrito                            80962        97\n",
            "Veggie Crispy Tacos                         668         1\n",
            "Veggie Salad                               7265         6\n",
            "Veggie Salad Bowl                         17303        18\n",
            "Veggie Soft Tacos                          5520         8\n",
            "Lets try sorting this\n",
            "                                       order_id  quantity\n",
            "item_name                                                \n",
            "Chicken Bowl                             713926       761\n",
            "Chicken Burrito                          497303       591\n",
            "Chips and Guacamole                      449959       506\n",
            "Steak Burrito                            328437       386\n",
            "Canned Soft Drink                        304753       351\n",
            "Chips                                    208004       230\n",
            "Steak Bowl                               193752       221\n",
            "Bottled Water                            175944       211\n",
            "Chips and Fresh Tomato Salsa             100419       130\n",
            "Canned Soda                               76396       126\n",
            "Chicken Salad Bowl                       117104       123\n",
            "Chicken Soft Tacos                        98395       120\n",
            "Side of Chips                             84769       110\n",
            "Veggie Burrito                            80962        97\n",
            "Barbacoa Burrito                          74718        91\n",
            "Veggie Bowl                               72270        87\n",
            "Carnitas Bowl                             62742        71\n",
            "Barbacoa Bowl                             53972        66\n",
            "Carnitas Burrito                          51652        60\n",
            "Steak Soft Tacos                          50177        56\n",
            "6 Pack Soft Drink                         52322        55\n",
            "Chips and Tomatillo Red Chili Salsa       45556        50\n",
            "Chicken Crispy Tacos                      47382        50\n",
            "Chips and Tomatillo Green Chili Salsa     41170        45\n",
            "Carnitas Soft Tacos                       37673        40\n",
            "Steak Crispy Tacos                        35818        36\n",
            "Chips and Tomatillo-Green Chili Salsa     21826        33\n",
            "Steak Salad Bowl                          29590        31\n",
            "Nantucket Nectar                          21814        29\n",
            "Chips and Tomatillo-Red Chili Salsa       18344        25\n",
            "Barbacoa Soft Tacos                       18725        25\n",
            "Chips and Roasted Chili Corn Salsa        14999        23\n",
            "Izze                                      10587        20\n",
            "Veggie Salad Bowl                         17303        18\n",
            "Chips and Roasted Chili-Corn Salsa        17462        18\n",
            "Barbacoa Crispy Tacos                      5613        12\n",
            "Barbacoa Salad Bowl                        9708        10\n",
            "Chicken Salad                             10465         9\n",
            "Carnitas Crispy Tacos                      5868         8\n",
            "Veggie Soft Tacos                          5520         8\n",
            "Burrito                                    1550         6\n",
            "Veggie Salad                               7265         6\n",
            "Carnitas Salad Bowl                        6693         6\n",
            "Bowl                                        472         4\n",
            "Steak Salad                                2362         4\n",
            "Salad                                      1150         2\n",
            "Crispy Tacos                                434         2\n",
            "Chips and Mild Fresh Tomato Salsa           279         1\n",
            "Carnitas Salad                             1500         1\n",
            "Veggie Crispy Tacos                         668         1\n",
            "('The most ordered item is',               order_id  quantity\n",
            "item_name                       \n",
            "Chicken Bowl    713926       761)\n"
          ],
          "name": "stdout"
        }
      ]
    },
    {
      "cell_type": "markdown",
      "metadata": {
        "id": "XKGeIACNQQYX",
        "colab_type": "text"
      },
      "source": [
        "### Step 10. For the most-ordered item, how many items were ordered?"
      ]
    },
    {
      "cell_type": "code",
      "metadata": {
        "id": "9kx40BI9QQYY",
        "colab_type": "code",
        "colab": {
          "base_uri": "https://localhost:8080/",
          "height": 106
        },
        "outputId": "28bf367f-edd6-421c-96f2-3b2c44d006d5"
      },
      "source": [
        "c = chipo.groupby('item_name')\n",
        "c = c.sum()\n",
        "c = c.sort_values(['quantity'], ascending=False)\n",
        "c.head(1)"
      ],
      "execution_count": 35,
      "outputs": [
        {
          "output_type": "execute_result",
          "data": {
            "text/html": [
              "<div>\n",
              "<style scoped>\n",
              "    .dataframe tbody tr th:only-of-type {\n",
              "        vertical-align: middle;\n",
              "    }\n",
              "\n",
              "    .dataframe tbody tr th {\n",
              "        vertical-align: top;\n",
              "    }\n",
              "\n",
              "    .dataframe thead th {\n",
              "        text-align: right;\n",
              "    }\n",
              "</style>\n",
              "<table border=\"1\" class=\"dataframe\">\n",
              "  <thead>\n",
              "    <tr style=\"text-align: right;\">\n",
              "      <th></th>\n",
              "      <th>order_id</th>\n",
              "      <th>quantity</th>\n",
              "    </tr>\n",
              "    <tr>\n",
              "      <th>item_name</th>\n",
              "      <th></th>\n",
              "      <th></th>\n",
              "    </tr>\n",
              "  </thead>\n",
              "  <tbody>\n",
              "    <tr>\n",
              "      <th>Chicken Bowl</th>\n",
              "      <td>713926</td>\n",
              "      <td>761</td>\n",
              "    </tr>\n",
              "  </tbody>\n",
              "</table>\n",
              "</div>"
            ],
            "text/plain": [
              "              order_id  quantity\n",
              "item_name                       \n",
              "Chicken Bowl    713926       761"
            ]
          },
          "metadata": {
            "tags": []
          },
          "execution_count": 35
        }
      ]
    },
    {
      "cell_type": "markdown",
      "metadata": {
        "id": "husZaM0XQQYa",
        "colab_type": "text"
      },
      "source": [
        "### Step 11. What was the most ordered item in the choice_description column?"
      ]
    },
    {
      "cell_type": "code",
      "metadata": {
        "id": "56nHsAKRQQYa",
        "colab_type": "code",
        "colab": {
          "base_uri": "https://localhost:8080/",
          "height": 106
        },
        "outputId": "bd446539-2e79-4a28-dff3-0b656cc839e9"
      },
      "source": [
        "c = chipo.groupby('choice_description')\n",
        "c = c.sum()\n",
        "c = c.sort_values(['quantity'], ascending=False)\n",
        "c\n",
        "c.head(1)"
      ],
      "execution_count": 43,
      "outputs": [
        {
          "output_type": "execute_result",
          "data": {
            "text/html": [
              "<div>\n",
              "<style scoped>\n",
              "    .dataframe tbody tr th:only-of-type {\n",
              "        vertical-align: middle;\n",
              "    }\n",
              "\n",
              "    .dataframe tbody tr th {\n",
              "        vertical-align: top;\n",
              "    }\n",
              "\n",
              "    .dataframe thead th {\n",
              "        text-align: right;\n",
              "    }\n",
              "</style>\n",
              "<table border=\"1\" class=\"dataframe\">\n",
              "  <thead>\n",
              "    <tr style=\"text-align: right;\">\n",
              "      <th></th>\n",
              "      <th>order_id</th>\n",
              "      <th>quantity</th>\n",
              "    </tr>\n",
              "    <tr>\n",
              "      <th>choice_description</th>\n",
              "      <th></th>\n",
              "      <th></th>\n",
              "    </tr>\n",
              "  </thead>\n",
              "  <tbody>\n",
              "    <tr>\n",
              "      <th>[Diet Coke]</th>\n",
              "      <td>123455</td>\n",
              "      <td>159</td>\n",
              "    </tr>\n",
              "  </tbody>\n",
              "</table>\n",
              "</div>"
            ],
            "text/plain": [
              "                    order_id  quantity\n",
              "choice_description                    \n",
              "[Diet Coke]           123455       159"
            ]
          },
          "metadata": {
            "tags": []
          },
          "execution_count": 43
        }
      ]
    },
    {
      "cell_type": "markdown",
      "metadata": {
        "id": "AoMblu9XQQYc",
        "colab_type": "text"
      },
      "source": [
        "### Step 12. How many items were orderd in total?"
      ]
    },
    {
      "cell_type": "markdown",
      "metadata": {
        "id": "jJfnVeDE_chZ",
        "colab_type": "text"
      },
      "source": [
        "Treat chipo as table, quantity as column, sum() -> calculation"
      ]
    },
    {
      "cell_type": "code",
      "metadata": {
        "id": "ZEaFK8nWQQYd",
        "colab_type": "code",
        "colab": {
          "base_uri": "https://localhost:8080/",
          "height": 34
        },
        "outputId": "bf92106c-d457-4fc0-e9ed-44fdbaa56843"
      },
      "source": [
        "total_items_ordered=chipo.quantity.sum()\n",
        "print('Total items ordered overall', total_items_ordered)"
      ],
      "execution_count": 61,
      "outputs": [
        {
          "output_type": "stream",
          "text": [
            "('Total items ordered overall', 4972)\n"
          ],
          "name": "stdout"
        }
      ]
    },
    {
      "cell_type": "markdown",
      "metadata": {
        "id": "YloyaLjGQQYf",
        "colab_type": "text"
      },
      "source": [
        "### Step 13. Turn the item price into a float"
      ]
    },
    {
      "cell_type": "markdown",
      "metadata": {
        "id": "VXGtrObCQzA5",
        "colab_type": "text"
      },
      "source": [
        "This is essentially changing data type\n",
        "Step 1- Check the data type\n",
        "Step 2- Change the data type\n",
        "> Indented block\n",
        "\n"
      ]
    },
    {
      "cell_type": "markdown",
      "metadata": {
        "id": "mXUHNiAUQQYg",
        "colab_type": "text"
      },
      "source": [
        "#### Step 13.a. Check the item price type"
      ]
    },
    {
      "cell_type": "code",
      "metadata": {
        "id": "FveyXDrVQQYh",
        "colab_type": "code",
        "colab": {
          "base_uri": "https://localhost:8080/",
          "height": 34
        },
        "outputId": "694a6cc6-b736-4368-f5e7-20b47045cf1b"
      },
      "source": [
        "chipo.item_price.dtype"
      ],
      "execution_count": 95,
      "outputs": [
        {
          "output_type": "execute_result",
          "data": {
            "text/plain": [
              "dtype('O')"
            ]
          },
          "metadata": {
            "tags": []
          },
          "execution_count": 95
        }
      ]
    },
    {
      "cell_type": "markdown",
      "metadata": {
        "id": "fY9yFZkNVVeh",
        "colab_type": "text"
      },
      "source": [
        "Simpler way to do this ->chipo['item_price']=chipo.item_price.astype(float)\n",
        "does not work because there's a $ in the data, so remove it"
      ]
    },
    {
      "cell_type": "code",
      "metadata": {
        "id": "5yj3b9D7VRIj",
        "colab_type": "code",
        "colab": {
          "base_uri": "https://localhost:8080/",
          "height": 354
        },
        "outputId": "dc09906b-674b-41f9-b94e-6f9089108dd5"
      },
      "source": [
        "a=chipo['item_price']\n",
        "a\n",
        "chipo['item_price']=chipo.item_price.str.replace('$','').astype(float)\n"
      ],
      "execution_count": 88,
      "outputs": [
        {
          "output_type": "error",
          "ename": "AttributeError",
          "evalue": "ignored",
          "traceback": [
            "\u001b[0;31m\u001b[0m",
            "\u001b[0;31mAttributeError\u001b[0mTraceback (most recent call last)",
            "\u001b[0;32m<ipython-input-88-3b6b229e4cc3>\u001b[0m in \u001b[0;36m<module>\u001b[0;34m()\u001b[0m\n\u001b[1;32m      1\u001b[0m \u001b[0ma\u001b[0m\u001b[0;34m=\u001b[0m\u001b[0mchipo\u001b[0m\u001b[0;34m[\u001b[0m\u001b[0;34m'item_price'\u001b[0m\u001b[0;34m]\u001b[0m\u001b[0;34m\u001b[0m\u001b[0m\n\u001b[1;32m      2\u001b[0m \u001b[0ma\u001b[0m\u001b[0;34m\u001b[0m\u001b[0m\n\u001b[0;32m----> 3\u001b[0;31m \u001b[0mchipo\u001b[0m\u001b[0;34m[\u001b[0m\u001b[0;34m'item_price'\u001b[0m\u001b[0;34m]\u001b[0m\u001b[0;34m=\u001b[0m\u001b[0mchipo\u001b[0m\u001b[0;34m.\u001b[0m\u001b[0mitem_price\u001b[0m\u001b[0;34m.\u001b[0m\u001b[0mstr\u001b[0m\u001b[0;34m.\u001b[0m\u001b[0mreplace\u001b[0m\u001b[0;34m(\u001b[0m\u001b[0;34m'$'\u001b[0m\u001b[0;34m,\u001b[0m\u001b[0;34m''\u001b[0m\u001b[0;34m)\u001b[0m\u001b[0;34m.\u001b[0m\u001b[0mastype\u001b[0m\u001b[0;34m(\u001b[0m\u001b[0mfloat\u001b[0m\u001b[0;34m)\u001b[0m\u001b[0;34m\u001b[0m\u001b[0m\n\u001b[0m\u001b[1;32m      4\u001b[0m \u001b[0mchipo\u001b[0m\u001b[0;34m.\u001b[0m\u001b[0mitem_price\u001b[0m\u001b[0;34m.\u001b[0m\u001b[0mdtype\u001b[0m\u001b[0;34m\u001b[0m\u001b[0m\n",
            "\u001b[0;32m/usr/local/lib/python2.7/dist-packages/pandas/core/generic.pyc\u001b[0m in \u001b[0;36m__getattr__\u001b[0;34m(self, name)\u001b[0m\n\u001b[1;32m   5061\u001b[0m         if (name in self._internal_names_set or name in self._metadata or\n\u001b[1;32m   5062\u001b[0m                 name in self._accessors):\n\u001b[0;32m-> 5063\u001b[0;31m             \u001b[0;32mreturn\u001b[0m \u001b[0mobject\u001b[0m\u001b[0;34m.\u001b[0m\u001b[0m__getattribute__\u001b[0m\u001b[0;34m(\u001b[0m\u001b[0mself\u001b[0m\u001b[0;34m,\u001b[0m \u001b[0mname\u001b[0m\u001b[0;34m)\u001b[0m\u001b[0;34m\u001b[0m\u001b[0m\n\u001b[0m\u001b[1;32m   5064\u001b[0m         \u001b[0;32melse\u001b[0m\u001b[0;34m:\u001b[0m\u001b[0;34m\u001b[0m\u001b[0m\n\u001b[1;32m   5065\u001b[0m             \u001b[0;32mif\u001b[0m \u001b[0mself\u001b[0m\u001b[0;34m.\u001b[0m\u001b[0m_info_axis\u001b[0m\u001b[0;34m.\u001b[0m\u001b[0m_can_hold_identifiers_and_holds_name\u001b[0m\u001b[0;34m(\u001b[0m\u001b[0mname\u001b[0m\u001b[0;34m)\u001b[0m\u001b[0;34m:\u001b[0m\u001b[0;34m\u001b[0m\u001b[0m\n",
            "\u001b[0;32m/usr/local/lib/python2.7/dist-packages/pandas/core/accessor.pyc\u001b[0m in \u001b[0;36m__get__\u001b[0;34m(self, obj, cls)\u001b[0m\n\u001b[1;32m    169\u001b[0m             \u001b[0;31m# we're accessing the attribute of the class, i.e., Dataset.geo\u001b[0m\u001b[0;34m\u001b[0m\u001b[0;34m\u001b[0m\u001b[0m\n\u001b[1;32m    170\u001b[0m             \u001b[0;32mreturn\u001b[0m \u001b[0mself\u001b[0m\u001b[0;34m.\u001b[0m\u001b[0m_accessor\u001b[0m\u001b[0;34m\u001b[0m\u001b[0m\n\u001b[0;32m--> 171\u001b[0;31m         \u001b[0maccessor_obj\u001b[0m \u001b[0;34m=\u001b[0m \u001b[0mself\u001b[0m\u001b[0;34m.\u001b[0m\u001b[0m_accessor\u001b[0m\u001b[0;34m(\u001b[0m\u001b[0mobj\u001b[0m\u001b[0;34m)\u001b[0m\u001b[0;34m\u001b[0m\u001b[0m\n\u001b[0m\u001b[1;32m    172\u001b[0m         \u001b[0;31m# Replace the property with the accessor object. Inspired by:\u001b[0m\u001b[0;34m\u001b[0m\u001b[0;34m\u001b[0m\u001b[0m\n\u001b[1;32m    173\u001b[0m         \u001b[0;31m# http://www.pydanny.com/cached-property.html\u001b[0m\u001b[0;34m\u001b[0m\u001b[0;34m\u001b[0m\u001b[0m\n",
            "\u001b[0;32m/usr/local/lib/python2.7/dist-packages/pandas/core/strings.pyc\u001b[0m in \u001b[0;36m__init__\u001b[0;34m(self, data)\u001b[0m\n\u001b[1;32m   1794\u001b[0m \u001b[0;34m\u001b[0m\u001b[0m\n\u001b[1;32m   1795\u001b[0m     \u001b[0;32mdef\u001b[0m \u001b[0m__init__\u001b[0m\u001b[0;34m(\u001b[0m\u001b[0mself\u001b[0m\u001b[0;34m,\u001b[0m \u001b[0mdata\u001b[0m\u001b[0;34m)\u001b[0m\u001b[0;34m:\u001b[0m\u001b[0;34m\u001b[0m\u001b[0m\n\u001b[0;32m-> 1796\u001b[0;31m         \u001b[0mself\u001b[0m\u001b[0;34m.\u001b[0m\u001b[0m_validate\u001b[0m\u001b[0;34m(\u001b[0m\u001b[0mdata\u001b[0m\u001b[0;34m)\u001b[0m\u001b[0;34m\u001b[0m\u001b[0m\n\u001b[0m\u001b[1;32m   1797\u001b[0m         \u001b[0mself\u001b[0m\u001b[0;34m.\u001b[0m\u001b[0m_is_categorical\u001b[0m \u001b[0;34m=\u001b[0m \u001b[0mis_categorical_dtype\u001b[0m\u001b[0;34m(\u001b[0m\u001b[0mdata\u001b[0m\u001b[0;34m)\u001b[0m\u001b[0;34m\u001b[0m\u001b[0m\n\u001b[1;32m   1798\u001b[0m \u001b[0;34m\u001b[0m\u001b[0m\n",
            "\u001b[0;32m/usr/local/lib/python2.7/dist-packages/pandas/core/strings.pyc\u001b[0m in \u001b[0;36m_validate\u001b[0;34m(data)\u001b[0m\n\u001b[1;32m   1816\u001b[0m             \u001b[0;31m# (instead of test for object dtype), but that isn't practical for\u001b[0m\u001b[0;34m\u001b[0m\u001b[0;34m\u001b[0m\u001b[0m\n\u001b[1;32m   1817\u001b[0m             \u001b[0;31m# performance reasons until we have a str dtype (GH 9343)\u001b[0m\u001b[0;34m\u001b[0m\u001b[0;34m\u001b[0m\u001b[0m\n\u001b[0;32m-> 1818\u001b[0;31m             raise AttributeError(\"Can only use .str accessor with string \"\n\u001b[0m\u001b[1;32m   1819\u001b[0m                                  \u001b[0;34m\"values, which use np.object_ dtype in \"\u001b[0m\u001b[0;34m\u001b[0m\u001b[0m\n\u001b[1;32m   1820\u001b[0m                                  \"pandas\")\n",
            "\u001b[0;31mAttributeError\u001b[0m: Can only use .str accessor with string values, which use np.object_ dtype in pandas"
          ]
        }
      ]
    },
    {
      "cell_type": "code",
      "metadata": {
        "id": "9W2dvMprXhGw",
        "colab_type": "code",
        "colab": {
          "base_uri": "https://localhost:8080/",
          "height": 1000
        },
        "outputId": "c8c714f0-c337-4c71-d74d-beadde13f8dc"
      },
      "source": [
        "chipo.item_price.dtype\n",
        "chipo.dtypes\n",
        "a=chipo['item_price']\n",
        "a"
      ],
      "execution_count": 92,
      "outputs": [
        {
          "output_type": "execute_result",
          "data": {
            "text/plain": [
              "0        2.39\n",
              "1        3.39\n",
              "2        3.39\n",
              "3        2.39\n",
              "4       16.98\n",
              "5       10.98\n",
              "6        1.69\n",
              "7       11.75\n",
              "8        9.25\n",
              "9        9.25\n",
              "10       4.45\n",
              "11       8.75\n",
              "12       8.75\n",
              "13      11.25\n",
              "14       4.45\n",
              "15       2.39\n",
              "16       8.49\n",
              "17       8.49\n",
              "18       2.18\n",
              "19       8.75\n",
              "20       4.45\n",
              "21       8.99\n",
              "22       3.39\n",
              "23      10.98\n",
              "24       3.39\n",
              "25       2.39\n",
              "26       8.49\n",
              "27       8.99\n",
              "28       1.09\n",
              "29       8.49\n",
              "        ...  \n",
              "4592    11.75\n",
              "4593    11.75\n",
              "4594    11.75\n",
              "4595     8.75\n",
              "4596     4.45\n",
              "4597     1.25\n",
              "4598     1.50\n",
              "4599     8.75\n",
              "4600     4.45\n",
              "4601     1.25\n",
              "4602     9.25\n",
              "4603     9.25\n",
              "4604     8.75\n",
              "4605     4.45\n",
              "4606     1.25\n",
              "4607    11.75\n",
              "4608    11.25\n",
              "4609     1.25\n",
              "4610    11.75\n",
              "4611    11.25\n",
              "4612     9.25\n",
              "4613     2.15\n",
              "4614     1.50\n",
              "4615     8.75\n",
              "4616     4.45\n",
              "4617    11.75\n",
              "4618    11.75\n",
              "4619    11.25\n",
              "4620     8.75\n",
              "4621     8.75\n",
              "Name: item_price, Length: 4622, dtype: float64"
            ]
          },
          "metadata": {
            "tags": []
          },
          "execution_count": 92
        }
      ]
    },
    {
      "cell_type": "markdown",
      "metadata": {
        "id": "4P3bF1mXRfzQ",
        "colab_type": "text"
      },
      "source": [
        "This means (Python) objects. Essentially like an excel cell that can be number or text, not defined is what I'm assuming"
      ]
    },
    {
      "cell_type": "markdown",
      "metadata": {
        "id": "F8FeBnbpSKNV",
        "colab_type": "text"
      },
      "source": [
        "***Remembering what I forgot***\n",
        "\n",
        "Lambda expression definition:\n",
        "In the simple terms, lambda expression is anonymous function that can be passed around to method as a parameter, can be stored in variable and also can return a result.\n",
        "Anonymous because it does not have a declared name\n",
        "Function because its more like function equipped with list of parameters, expression body and return value etc.\n",
        "Lambda expression has Three parts:\n",
        "1. Parameter List e.g. (Book b1, Book b2), if no parameters then empty parentheses.\n",
        "2. Arrow compose of two - and > character\n",
        "3. Body e.g. Double.compare(b1.getPrice(), b2.getPrice())\n",
        "\n",
        "When body of lambda expression consist of multiple statement then encapsulate the body with {} brackets, like this:\n",
        "(parameters) -> {\n",
        "     statements1;\n",
        "     statements2;\n",
        "               }\n"
      ]
    },
    {
      "cell_type": "markdown",
      "metadata": {
        "id": "Qj5G4kKuQQYj",
        "colab_type": "text"
      },
      "source": [
        "#### Step 13.b. Create a lambda function and change the type of item price"
      ]
    },
    {
      "cell_type": "code",
      "metadata": {
        "id": "3sd-bBI7QQYj",
        "colab_type": "code",
        "colab": {}
      },
      "source": [
        "typechanger = lambda x: float(x[1:-1])\n",
        "chipo.item_price = chipo.item_price.apply(typechanger)\n",
        "\n"
      ],
      "execution_count": 0,
      "outputs": []
    },
    {
      "cell_type": "markdown",
      "metadata": {
        "id": "WC6hhdsgZIS8",
        "colab_type": "text"
      },
      "source": [
        "What this did was, strip the first element $ and then changed type to float - or atleast that is what I think happened"
      ]
    },
    {
      "cell_type": "code",
      "metadata": {
        "id": "Y4ZuvmPFYUaj",
        "colab_type": "code",
        "colab": {
          "base_uri": "https://localhost:8080/",
          "height": 1000
        },
        "outputId": "297acf42-981a-4067-9c97-cb78ac6f4d6a"
      },
      "source": [
        "chipo['item_price']"
      ],
      "execution_count": 100,
      "outputs": [
        {
          "output_type": "execute_result",
          "data": {
            "text/plain": [
              "0        2.39\n",
              "1        3.39\n",
              "2        3.39\n",
              "3        2.39\n",
              "4       16.98\n",
              "5       10.98\n",
              "6        1.69\n",
              "7       11.75\n",
              "8        9.25\n",
              "9        9.25\n",
              "10       4.45\n",
              "11       8.75\n",
              "12       8.75\n",
              "13      11.25\n",
              "14       4.45\n",
              "15       2.39\n",
              "16       8.49\n",
              "17       8.49\n",
              "18       2.18\n",
              "19       8.75\n",
              "20       4.45\n",
              "21       8.99\n",
              "22       3.39\n",
              "23      10.98\n",
              "24       3.39\n",
              "25       2.39\n",
              "26       8.49\n",
              "27       8.99\n",
              "28       1.09\n",
              "29       8.49\n",
              "        ...  \n",
              "4592    11.75\n",
              "4593    11.75\n",
              "4594    11.75\n",
              "4595     8.75\n",
              "4596     4.45\n",
              "4597     1.25\n",
              "4598     1.50\n",
              "4599     8.75\n",
              "4600     4.45\n",
              "4601     1.25\n",
              "4602     9.25\n",
              "4603     9.25\n",
              "4604     8.75\n",
              "4605     4.45\n",
              "4606     1.25\n",
              "4607    11.75\n",
              "4608    11.25\n",
              "4609     1.25\n",
              "4610    11.75\n",
              "4611    11.25\n",
              "4612     9.25\n",
              "4613     2.15\n",
              "4614     1.50\n",
              "4615     8.75\n",
              "4616     4.45\n",
              "4617    11.75\n",
              "4618    11.75\n",
              "4619    11.25\n",
              "4620     8.75\n",
              "4621     8.75\n",
              "Name: item_price, Length: 4622, dtype: float64"
            ]
          },
          "metadata": {
            "tags": []
          },
          "execution_count": 100
        }
      ]
    },
    {
      "cell_type": "markdown",
      "metadata": {
        "id": "OmrA194oQQYl",
        "colab_type": "text"
      },
      "source": [
        "#### Step 13.c. Check the item price type"
      ]
    },
    {
      "cell_type": "code",
      "metadata": {
        "id": "17v9aN-NQQYm",
        "colab_type": "code",
        "colab": {
          "base_uri": "https://localhost:8080/",
          "height": 34
        },
        "outputId": "2a74100e-0e39-45d5-c9fe-09c904404067"
      },
      "source": [
        "chipo.item_price.dtype"
      ],
      "execution_count": 97,
      "outputs": [
        {
          "output_type": "execute_result",
          "data": {
            "text/plain": [
              "dtype('float64')"
            ]
          },
          "metadata": {
            "tags": []
          },
          "execution_count": 97
        }
      ]
    },
    {
      "cell_type": "markdown",
      "metadata": {
        "id": "pbEol5-YQQYp",
        "colab_type": "text"
      },
      "source": [
        "### Step 14. How much was the revenue for the period in the dataset?"
      ]
    },
    {
      "cell_type": "code",
      "metadata": {
        "id": "dQE5lDLaQQYq",
        "colab_type": "code",
        "colab": {
          "base_uri": "https://localhost:8080/",
          "height": 50
        },
        "outputId": "01d6e7ca-b024-4fc2-ef6a-56aab0bb579f"
      },
      "source": [
        "chipo.dtypes\n",
        "revenue =(chipo['quantity']*chipo['item_price']).sum()\n",
        "revenue\n",
        "print('The total revenue for the dataset is $',revenue)\n",
        "#print('The total revenue for the dataset is $'+revenue) #TypeError: cannot concatenate 'str' and 'numpy.float64' objects\n",
        "print('The total revenue for the dataset is $'+str(revenue))  ###This one works"
      ],
      "execution_count": 109,
      "outputs": [
        {
          "output_type": "stream",
          "text": [
            "('The total revenue for the dataset is $', 39237.02)\n",
            "The total revenue for the dataset is $39237.02\n"
          ],
          "name": "stdout"
        }
      ]
    },
    {
      "cell_type": "markdown",
      "metadata": {
        "id": "pmmA5MuvQQYu",
        "colab_type": "text"
      },
      "source": [
        "### Step 15. How many orders were made in the period?"
      ]
    },
    {
      "cell_type": "code",
      "metadata": {
        "id": "Ut5-siO_QQYw",
        "colab_type": "code",
        "colab": {
          "base_uri": "https://localhost:8080/",
          "height": 34
        },
        "outputId": "d0531003-c0f6-4797-ae11-01333d70d1d6"
      },
      "source": [
        "chipo.columns\n",
        "chipo.dtypes\n",
        "total_orders = chipo['order_id'].count()\n",
        "total_orders\n",
        "print('The total orders placed are',total_orders)"
      ],
      "execution_count": 115,
      "outputs": [
        {
          "output_type": "stream",
          "text": [
            "('The total orders placed are', 4622)\n"
          ],
          "name": "stdout"
        }
      ]
    },
    {
      "cell_type": "markdown",
      "metadata": {
        "id": "_bAuFhruQQY0",
        "colab_type": "text"
      },
      "source": [
        "### Step 16. What is the average revenue amount per order?"
      ]
    },
    {
      "cell_type": "code",
      "metadata": {
        "id": "L9mFlnnTQQY1",
        "colab_type": "code",
        "colab": {
          "base_uri": "https://localhost:8080/",
          "height": 34
        },
        "outputId": "1cef0306-b00e-4812-9db4-a0b6f79fccd5"
      },
      "source": [
        "# Solution 1\n",
        "## add revenue for each row\n",
        "chipo.columns\n",
        "chipo['revenue']=chipo['quantity']*chipo['item_price']\n",
        "##print chipo['quantity'],chipo['item_price'],chipo['revenue']\n",
        "revenue_per_order = chipo.groupby(by=['order_id']).sum()  ##sum of revenue per order\n",
        "revenue_per_order\n",
        "revenue_per_order.mean()\n",
        "revenue_per_order.mean()['revenue']\n",
        "\n"
      ],
      "execution_count": 122,
      "outputs": [
        {
          "output_type": "execute_result",
          "data": {
            "text/plain": [
              "21.394231188658654"
            ]
          },
          "metadata": {
            "tags": []
          },
          "execution_count": 122
        }
      ]
    },
    {
      "cell_type": "code",
      "metadata": {
        "id": "hX_a2mj1QQY2",
        "colab_type": "code",
        "colab": {
          "base_uri": "https://localhost:8080/",
          "height": 34
        },
        "outputId": "4e885374-89e3-466c-804c-bc608aa35c5e"
      },
      "source": [
        "# Solution 2\n",
        "chipo.groupby(by=['order_id']).sum().mean()['revenue']\n"
      ],
      "execution_count": 124,
      "outputs": [
        {
          "output_type": "execute_result",
          "data": {
            "text/plain": [
              "21.394231188658654"
            ]
          },
          "metadata": {
            "tags": []
          },
          "execution_count": 124
        }
      ]
    },
    {
      "cell_type": "markdown",
      "metadata": {
        "id": "CG0oaXTLQQY5",
        "colab_type": "text"
      },
      "source": [
        "### Step 17. How many different items are sold?"
      ]
    },
    {
      "cell_type": "code",
      "metadata": {
        "id": "Sq0j28fuQQY5",
        "colab_type": "code",
        "colab": {
          "base_uri": "https://localhost:8080/",
          "height": 34
        },
        "outputId": "3e331e9c-adb4-4e9c-a23a-2e23fba17db1"
      },
      "source": [
        "chipo.item_name.value_counts\n",
        "chipo.item_name.value_counts().count()"
      ],
      "execution_count": 127,
      "outputs": [
        {
          "output_type": "execute_result",
          "data": {
            "text/plain": [
              "50"
            ]
          },
          "metadata": {
            "tags": []
          },
          "execution_count": 127
        }
      ]
    }
  ]
}